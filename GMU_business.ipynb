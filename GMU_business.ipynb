{
 "cells": [
  {
   "cell_type": "markdown",
   "id": "cf8f1c4a",
   "metadata": {},
   "source": [
    "Uyen Huynh\n",
    "\n",
    "# RESTAURANT BUSINESSES AROUND GEORGE MASON UNIVERSITY IN FAIRFAX, VIRGINIA"
   ]
  },
  {
   "cell_type": "markdown",
   "id": "25fef88f",
   "metadata": {},
   "source": [
    "This notebook is to present the process of collecting data using Yelp Fusion API and Google Maps API:\n",
    "1. **Yelp Fusion API**: \n",
    "- Business Search Endpoint: return detailed information about businesses located in major cities/towns/CDPs near George Mason Univerisity campus (4400 University Dr, Fairfax, VA 22030).\n",
    "- Reviews Endpoints: provide review excerpts from users.   \n",
    "2. **Distance Matrix API**: get the driving distance (km) and driving travel time (minute) from the GMU campus to a given business.\n",
    "\n",
    "After collecting data, we also perform data cleansing & data transformation so that the data can be populated into the designed database.  "
   ]
  },
  {
   "cell_type": "markdown",
   "id": "4cef3568",
   "metadata": {},
   "source": [
    "## Table of contents\n",
    "[A. Yelp Fusion - Business Search](#first)  \n",
    "[B. Distance Matrix API](#second)  \n",
    "[C. Yelp Fusion - Reviews](#third)  "
   ]
  },
  {
   "cell_type": "markdown",
   "id": "386a8db6",
   "metadata": {},
   "source": [
    "## A. Yelp Fusion - Business Search <a name=\"first\"></a>"
   ]
  },
  {
   "cell_type": "markdown",
   "id": "edfaa7d2",
   "metadata": {},
   "source": [
    "### Data Collection"
   ]
  },
  {
   "cell_type": "markdown",
   "id": "239d559a",
   "metadata": {},
   "source": [
    "At this step, we send requests to Yelp Fusion API to get the business information based on the provided location criteria.  "
   ]
  },
  {
   "cell_type": "code",
   "execution_count": 1,
   "id": "f4ca783e",
   "metadata": {},
   "outputs": [],
   "source": [
    "import requests\n",
    "import json\n",
    "import os\n",
    "import pandas as pd\n",
    "import numpy as np\n",
    "import re"
   ]
  },
  {
   "cell_type": "code",
   "execution_count": 2,
   "id": "4830f615",
   "metadata": {},
   "outputs": [],
   "source": [
    "api_key = 'abc' # insert your API key"
   ]
  },
  {
   "cell_type": "code",
   "execution_count": 3,
   "id": "396090a2",
   "metadata": {},
   "outputs": [
    {
     "name": "stdout",
     "output_type": "stream",
     "text": [
      "Done for Fairfax VA\n",
      "Done for Burke VA\n",
      "Done for Springfield VA\n",
      "Done for Annandale VA\n",
      "Done for Tysons Corner VA\n",
      "Done for Vienna VA\n",
      "Done for Falls Church VA\n",
      "Done for Centreville VA\n",
      "Done for Chantilly VA\n",
      "Done for Idylwood VA\n",
      "Done for North Springfield VA\n",
      "Done for Oakton VA\n",
      "Done for West Falls Church VA\n",
      "Done for West Springfield VA\n",
      "Done for Reston VA\n",
      "Done for Washington DC\n"
     ]
    }
   ],
   "source": [
    "headers = {'Authorization': 'Bearer %s' % api_key}\n",
    "url = 'https://api.yelp.com/v3/businesses/search'\n",
    "\n",
    "# current working directory\n",
    "cwd = os.getcwd()\n",
    "\n",
    "locations = ['Fairfax VA', 'Burke VA', 'Springfield VA', 'Annandale VA', 'Tysons Corner VA', 'Vienna VA', \\\n",
    "             'Falls Church VA', 'Centreville VA', 'Chantilly VA', 'Idylwood VA', 'North Springfield VA', \\\n",
    "            'Oakton VA', 'West Falls Church VA', 'West Springfield VA', 'Reston VA', 'Washington DC'] \n",
    "             \n",
    "for loc in locations:\n",
    "    offset = 0\n",
    "    # for a location, firstly check whether we already collected & saved data in a file\n",
    "    file_name = loc.lower().replace(' ', '_') + '.json'\n",
    "    file_path = os.path.join(cwd, 'data', file_name)\n",
    "\n",
    "    if not os.path.isfile(file_path):\n",
    "        businesses = []\n",
    "        for n in range(10):\n",
    "            params = {'location':loc, 'limit':'50', 'offset': offset}\n",
    "            response = requests.get(url, params=params, headers=headers)\n",
    "            result = json.loads(response.text)\n",
    "            businesses.append(result)\n",
    "            offset += 50\n",
    "    \n",
    "        # save data in a file\n",
    "        with open(file_path, 'w') as f:\n",
    "            json.dump(businesses, f, indent = 4)\n",
    "    \n",
    "    print('Done for {}'.format(loc))"
   ]
  },
  {
   "cell_type": "markdown",
   "id": "86e7b614",
   "metadata": {},
   "source": [
    "### Load the raw data into a dictionary"
   ]
  },
  {
   "cell_type": "code",
   "execution_count": 4,
   "id": "74eb63be",
   "metadata": {},
   "outputs": [],
   "source": [
    "businesses_dict = {}\n",
    "locations_lower = []\n",
    "for loc in locations:\n",
    "    file_name = loc.lower().replace(' ', '_') + '.json'\n",
    "    file_path = os.path.join(cwd, 'data', file_name)\n",
    "    location_key = loc.lower().replace(' ', '_')\n",
    "    locations_lower.append(location_key)\n",
    "    with open(file_path, 'r') as f:\n",
    "        businesses_dict[location_key] = json.load(f)"
   ]
  },
  {
   "cell_type": "markdown",
   "id": "f7f8e069",
   "metadata": {},
   "source": [
    "### Create the dataframe *'businesses_df'* to store the raw data"
   ]
  },
  {
   "cell_type": "code",
   "execution_count": 5,
   "id": "06f9a594",
   "metadata": {},
   "outputs": [
    {
     "name": "stdout",
     "output_type": "stream",
     "text": [
      "fairfax_va\n",
      "burke_va\n",
      "springfield_va\n",
      "annandale_va\n",
      "tysons_corner_va\n",
      "vienna_va\n",
      "falls_church_va\n",
      "centreville_va\n",
      "chantilly_va\n",
      "idylwood_va\n",
      "north_springfield_va\n",
      "oakton_va\n",
      "west_falls_church_va\n",
      "west_springfield_va\n",
      "reston_va\n",
      "washington_dc\n"
     ]
    }
   ],
   "source": [
    "for a in businesses_dict.keys():\n",
    "    print(a)"
   ]
  },
  {
   "cell_type": "code",
   "execution_count": 6,
   "id": "b1326029",
   "metadata": {},
   "outputs": [],
   "source": [
    "# create a dataframe which stores detailed information of all businesses\n",
    "businesses_df = pd.DataFrame()\n",
    "\n",
    "for key, value in businesses_dict.items():\n",
    "    for i in range(len(value)):\n",
    "        info_50_businesses = value[i]['businesses']\n",
    "        for info_1_business in info_50_businesses:\n",
    "            info_1_business_df = pd.DataFrame.from_dict(info_1_business, orient='index').T\n",
    "            businesses_df = pd.concat([businesses_df, info_1_business_df], axis=0)\n",
    "\n",
    "businesses_df.reset_index(drop=True, inplace=True)"
   ]
  },
  {
   "cell_type": "code",
   "execution_count": 7,
   "id": "e63518cc",
   "metadata": {},
   "outputs": [
    {
     "data": {
      "text/html": [
       "<div>\n",
       "<style scoped>\n",
       "    .dataframe tbody tr th:only-of-type {\n",
       "        vertical-align: middle;\n",
       "    }\n",
       "\n",
       "    .dataframe tbody tr th {\n",
       "        vertical-align: top;\n",
       "    }\n",
       "\n",
       "    .dataframe thead th {\n",
       "        text-align: right;\n",
       "    }\n",
       "</style>\n",
       "<table border=\"1\" class=\"dataframe\">\n",
       "  <thead>\n",
       "    <tr style=\"text-align: right;\">\n",
       "      <th></th>\n",
       "      <th>id</th>\n",
       "      <th>alias</th>\n",
       "      <th>name</th>\n",
       "      <th>image_url</th>\n",
       "      <th>is_closed</th>\n",
       "      <th>url</th>\n",
       "      <th>review_count</th>\n",
       "      <th>categories</th>\n",
       "      <th>rating</th>\n",
       "      <th>coordinates</th>\n",
       "      <th>transactions</th>\n",
       "      <th>price</th>\n",
       "      <th>location</th>\n",
       "      <th>phone</th>\n",
       "      <th>display_phone</th>\n",
       "      <th>distance</th>\n",
       "    </tr>\n",
       "  </thead>\n",
       "  <tbody>\n",
       "    <tr>\n",
       "      <th>0</th>\n",
       "      <td>KSPpsm1Kxxg8Y2sgQKuqSQ</td>\n",
       "      <td>de-clieu-coffee-and-sandwich-fairfax</td>\n",
       "      <td>De Clieu Coffee &amp; Sandwich</td>\n",
       "      <td>https://s3-media3.fl.yelpcdn.com/bphoto/Xsjorj...</td>\n",
       "      <td>False</td>\n",
       "      <td>https://www.yelp.com/biz/de-clieu-coffee-and-s...</td>\n",
       "      <td>845</td>\n",
       "      <td>[{'alias': 'coffee', 'title': 'Coffee &amp; Tea'},...</td>\n",
       "      <td>4.5</td>\n",
       "      <td>{'latitude': 38.845808, 'longitude': -77.305247}</td>\n",
       "      <td>[delivery]</td>\n",
       "      <td>$</td>\n",
       "      <td>{'address1': '10389 Main St', 'address2': 'Ste...</td>\n",
       "      <td>+17035910309</td>\n",
       "      <td>(703) 591-0309</td>\n",
       "      <td>1465.95</td>\n",
       "    </tr>\n",
       "    <tr>\n",
       "      <th>1</th>\n",
       "      <td>iKyRzxyEN-C-D6NrEEa7TA</td>\n",
       "      <td>sisters-thai-fairfax</td>\n",
       "      <td>Sisters Thai</td>\n",
       "      <td>https://s3-media1.fl.yelpcdn.com/bphoto/4Rm61G...</td>\n",
       "      <td>False</td>\n",
       "      <td>https://www.yelp.com/biz/sisters-thai-fairfax?...</td>\n",
       "      <td>1114</td>\n",
       "      <td>[{'alias': 'thai', 'title': 'Thai'}]</td>\n",
       "      <td>4</td>\n",
       "      <td>{'latitude': 38.84576, 'longitude': -77.30561}</td>\n",
       "      <td>[pickup, delivery]</td>\n",
       "      <td>$$</td>\n",
       "      <td>{'address1': '4004 University Dr', 'address2':...</td>\n",
       "      <td>+17032679619</td>\n",
       "      <td>(703) 267-9619</td>\n",
       "      <td>1458.46</td>\n",
       "    </tr>\n",
       "    <tr>\n",
       "      <th>2</th>\n",
       "      <td>DtU_GcDsnOpOcowgaVgf0Q</td>\n",
       "      <td>sushi-prince-fairfax</td>\n",
       "      <td>Sushi Prince</td>\n",
       "      <td>https://s3-media1.fl.yelpcdn.com/bphoto/m3AgZ_...</td>\n",
       "      <td>False</td>\n",
       "      <td>https://www.yelp.com/biz/sushi-prince-fairfax?...</td>\n",
       "      <td>853</td>\n",
       "      <td>[{'alias': 'japanese', 'title': 'Japanese'}, {...</td>\n",
       "      <td>4</td>\n",
       "      <td>{'latitude': 38.8452632, 'longitude': -77.3010...</td>\n",
       "      <td>[pickup, delivery]</td>\n",
       "      <td>$$</td>\n",
       "      <td>{'address1': '10256 Main St', 'address2': '', ...</td>\n",
       "      <td>+17033830588</td>\n",
       "      <td>(703) 383-0588</td>\n",
       "      <td>1757.79</td>\n",
       "    </tr>\n",
       "  </tbody>\n",
       "</table>\n",
       "</div>"
      ],
      "text/plain": [
       "                       id                                 alias  \\\n",
       "0  KSPpsm1Kxxg8Y2sgQKuqSQ  de-clieu-coffee-and-sandwich-fairfax   \n",
       "1  iKyRzxyEN-C-D6NrEEa7TA                  sisters-thai-fairfax   \n",
       "2  DtU_GcDsnOpOcowgaVgf0Q                  sushi-prince-fairfax   \n",
       "\n",
       "                         name  \\\n",
       "0  De Clieu Coffee & Sandwich   \n",
       "1                Sisters Thai   \n",
       "2                Sushi Prince   \n",
       "\n",
       "                                           image_url is_closed  \\\n",
       "0  https://s3-media3.fl.yelpcdn.com/bphoto/Xsjorj...     False   \n",
       "1  https://s3-media1.fl.yelpcdn.com/bphoto/4Rm61G...     False   \n",
       "2  https://s3-media1.fl.yelpcdn.com/bphoto/m3AgZ_...     False   \n",
       "\n",
       "                                                 url review_count  \\\n",
       "0  https://www.yelp.com/biz/de-clieu-coffee-and-s...          845   \n",
       "1  https://www.yelp.com/biz/sisters-thai-fairfax?...         1114   \n",
       "2  https://www.yelp.com/biz/sushi-prince-fairfax?...          853   \n",
       "\n",
       "                                          categories rating  \\\n",
       "0  [{'alias': 'coffee', 'title': 'Coffee & Tea'},...    4.5   \n",
       "1               [{'alias': 'thai', 'title': 'Thai'}]      4   \n",
       "2  [{'alias': 'japanese', 'title': 'Japanese'}, {...      4   \n",
       "\n",
       "                                         coordinates        transactions  \\\n",
       "0   {'latitude': 38.845808, 'longitude': -77.305247}          [delivery]   \n",
       "1     {'latitude': 38.84576, 'longitude': -77.30561}  [pickup, delivery]   \n",
       "2  {'latitude': 38.8452632, 'longitude': -77.3010...  [pickup, delivery]   \n",
       "\n",
       "  price                                           location         phone  \\\n",
       "0     $  {'address1': '10389 Main St', 'address2': 'Ste...  +17035910309   \n",
       "1    $$  {'address1': '4004 University Dr', 'address2':...  +17032679619   \n",
       "2    $$  {'address1': '10256 Main St', 'address2': '', ...  +17033830588   \n",
       "\n",
       "    display_phone distance  \n",
       "0  (703) 591-0309  1465.95  \n",
       "1  (703) 267-9619  1458.46  \n",
       "2  (703) 383-0588  1757.79  "
      ]
     },
     "execution_count": 7,
     "metadata": {},
     "output_type": "execute_result"
    }
   ],
   "source": [
    "businesses_df.head(3)"
   ]
  },
  {
   "cell_type": "markdown",
   "id": "b585fbc3",
   "metadata": {},
   "source": [
    "### Data Cleaning & Data Transformation"
   ]
  },
  {
   "cell_type": "code",
   "execution_count": 8,
   "id": "c895fe79",
   "metadata": {},
   "outputs": [
    {
     "name": "stdout",
     "output_type": "stream",
     "text": [
      "The dataframe \"businesses_df\" has 8846 rows and 16 columns.\n"
     ]
    }
   ],
   "source": [
    "# check the size of the dataframe\n",
    "print('The dataframe \"businesses_df\" has {} rows and {} columns.'.format(businesses_df.shape[0], businesses_df.shape[1]))"
   ]
  },
  {
   "cell_type": "code",
   "execution_count": 9,
   "id": "0ce77966",
   "metadata": {},
   "outputs": [
    {
     "name": "stdout",
     "output_type": "stream",
     "text": [
      "After being removed duplicated rows, the \"businesses_df\" dataframe contains 3721 rows.\n"
     ]
    }
   ],
   "source": [
    "# drop the duplicates\n",
    "businesses_df.drop_duplicates(subset='id', inplace=True, ignore_index=True)\n",
    "print('After being removed duplicated rows, the \"businesses_df\" dataframe contains {} rows.'.format(len(businesses_df)))"
   ]
  },
  {
   "cell_type": "markdown",
   "id": "eb09effc",
   "metadata": {},
   "source": [
    "#### 1. Coordinates"
   ]
  },
  {
   "cell_type": "markdown",
   "id": "bf915b35",
   "metadata": {},
   "source": [
    "We need to extract **latitude** & **longitude** from **'coordinates'** values. "
   ]
  },
  {
   "cell_type": "code",
   "execution_count": 10,
   "id": "d68b7365",
   "metadata": {},
   "outputs": [],
   "source": [
    "yelp_businesses_df = businesses_df.copy()\n",
    "# extract latitude\n",
    "yelp_businesses_df['latitude'] = yelp_businesses_df['coordinates'].apply(lambda x:x['latitude'])\n",
    "# extract longitude\n",
    "yelp_businesses_df['longitude'] = yelp_businesses_df['coordinates'].apply(lambda x:x['longitude'])"
   ]
  },
  {
   "cell_type": "markdown",
   "id": "b8d658d7",
   "metadata": {},
   "source": [
    "#### 2. Street, City, State, Zipcode"
   ]
  },
  {
   "cell_type": "markdown",
   "id": "3e2cd323",
   "metadata": {},
   "source": [
    "The **location** column contains the full address of each business. Each value is stored as a dictionary, including the following keys:   \n",
    "- *address1*, *address2*, *address3*: these elements provides the full street address\n",
    "- *city*\n",
    "- *state*\n",
    "- *zipcode*\n",
    "\n",
    "We will store *street*, *city*, *state* and *zip_code* values in four separate columns. "
   ]
  },
  {
   "cell_type": "code",
   "execution_count": 11,
   "id": "1b3eea96",
   "metadata": {},
   "outputs": [],
   "source": [
    "# extract street address\n",
    "def street_address(a):\n",
    "    if a['address1'] != None and a['address1'] != '':\n",
    "        address1 = str(a['address1'])\n",
    "    else:\n",
    "        address1 = '' \n",
    "    \n",
    "    if a['address2'] != None and a['address2'] != '':\n",
    "        address2 = ', ' + str(a['address2'])\n",
    "    else:\n",
    "        address2 = ''\n",
    "    \n",
    "    if a['address3'] != None and a['address3'] != '':\n",
    "        address3 = ', ' + str(a['address3'])\n",
    "    else:\n",
    "        address3 = ''\n",
    "    \n",
    "    street = address1 + address2 + address3\n",
    "    return street\n",
    "\n",
    "yelp_businesses_df['street'] = yelp_businesses_df['location'].apply(street_address)\n",
    "\n",
    "# city\n",
    "yelp_businesses_df['city'] = yelp_businesses_df['location'].apply(lambda x:x['city'])\n",
    "\n",
    "# state\n",
    "yelp_businesses_df['state'] = yelp_businesses_df['location'].apply(lambda x:x['state'])\n",
    "\n",
    "# zip code\n",
    "yelp_businesses_df['zip_code'] = yelp_businesses_df['location'].apply(lambda x:x['zip_code'])\n",
    "\n",
    "# display_address\n",
    "yelp_businesses_df['display_address'] = yelp_businesses_df['location'].apply(lambda x:x['display_address'])"
   ]
  },
  {
   "cell_type": "code",
   "execution_count": 12,
   "id": "c2f983d7",
   "metadata": {},
   "outputs": [
    {
     "data": {
      "text/plain": [
       "array(['VA', 'MD', 'DC', 'YOR', 'WV', 'TX', 'OR', 'OK', 'IL'],\n",
       "      dtype=object)"
      ]
     },
     "execution_count": 12,
     "metadata": {},
     "output_type": "execute_result"
    }
   ],
   "source": [
    "# recheck the business locations returned by Yelp API\n",
    "yelp_businesses_df['state'].unique()"
   ]
  },
  {
   "cell_type": "code",
   "execution_count": 13,
   "id": "35c23596",
   "metadata": {},
   "outputs": [],
   "source": [
    "# remove businesses which are not located in VA or DC\n",
    "yelp_businesses_df = yelp_businesses_df[(yelp_businesses_df['state'] == 'VA')|(yelp_businesses_df['state'] == 'DC')]"
   ]
  },
  {
   "cell_type": "code",
   "execution_count": 15,
   "id": "bf0e84f9",
   "metadata": {},
   "outputs": [
    {
     "data": {
      "text/plain": [
       "array(['Fairfax', 'Vienna', 'Fairfax Station', 'Falls Church', 'Oakton',\n",
       "       'Centreville', 'Fairfax City', 'Chantilly', 'Annandale',\n",
       "       'Springfield', 'Dunn Lorring', 'Reston', 'McLean', 'Arlington',\n",
       "       'Burke', 'Clifton', 'Tysons', 'Herndon', \"Tyson's Corner-Vienna\",\n",
       "       'Alexandria', 'Manassas', 'Sterling', 'Merrifield', 'Great Falls',\n",
       "       'Ashburn', 'Tysons Corner', \"Bailey's Crossroads\",\n",
       "       'Washington, DC', 'Mclean', 'Manassas Park', 'Lorton', 'Aldie',\n",
       "       'West Springfield', 'North Springfield', 'Newington', 'Bristow',\n",
       "       'Gainesville', 'Mesa Arizona', 'Sully', 'Woodbridge',\n",
       "       'Fredericksburg', 'South Riding', 'West Falls Church', 'Northern',\n",
       "       'Culpeper', 'Mount Vernon', 'Kingstowne', 'Baileys Crossroad',\n",
       "       'Fort Belvoir', 'Lincolnia', 'Baileys Crossroads', 'Seven Corners',\n",
       "       \"Tyson's Corner\", 'Mc Lean', 'Falls church', 'Tysons Corne',\n",
       "       'West McLean', 'Dunn Loring', 'Bluemont', 'Rosslyn', 'Yorkshire',\n",
       "       'Sully Station', 'Haymarket', 'Dulles', 'Broadlands', 'Brambleton',\n",
       "       'Leesburg', 'Washington DC'], dtype=object)"
      ]
     },
     "execution_count": 15,
     "metadata": {},
     "output_type": "execute_result"
    }
   ],
   "source": [
    "# unique values of the 'city' column\n",
    "yelp_businesses_df['city'].unique()"
   ]
  },
  {
   "cell_type": "markdown",
   "id": "65dc81eb",
   "metadata": {},
   "source": [
    "As we can see from the result above, some cities are not presented in a consistent way, for example, \"Bailey's Crossroads\" and \"Bailey Crossroads\" are exactly the same location. Therefore, we need to adjust some values so that each location will be denoted by only one value. "
   ]
  },
  {
   "cell_type": "code",
   "execution_count": 16,
   "id": "519ec358",
   "metadata": {},
   "outputs": [],
   "source": [
    "def city_correct(x):\n",
    "    if x == 'Fairfax City':\n",
    "        return 'Fairfax'\n",
    "    elif x in (\"Tyson's Corner-Vienna\", \"Tysons\", \"Tysons Corne\", \"Tyson's Corner\"):\n",
    "        return 'Tysons Corner'\n",
    "    elif x == 'Washington, DC':\n",
    "        return 'Washington DC'\n",
    "    elif x in (\"Bailey's Crossroads\", 'Baileys Crossroads', 'Baileys Crossroad'):\n",
    "        return 'Bailey Crossroads'\n",
    "    elif x == 'Falls church':\n",
    "        return 'Falls Church'\n",
    "    elif x in ('Mc Lean', 'Mclean'):\n",
    "        return 'McLean'\n",
    "    elif x == 'Sully Station':\n",
    "        return 'Centreville'\n",
    "    elif x == 'Dunn Lorring':\n",
    "        return 'Dunn Loring'\n",
    "    else:\n",
    "        return x\n",
    "    \n",
    "yelp_businesses_df['city'] = yelp_businesses_df['city'].apply(city_correct)"
   ]
  },
  {
   "cell_type": "code",
   "execution_count": 17,
   "id": "2879fe70",
   "metadata": {},
   "outputs": [],
   "source": [
    "# create a list of cities/towns/CDPs where the number of businesses located is less than 10\n",
    "count_loc = yelp_businesses_df['city'].value_counts().reset_index()\n",
    "remove_loc = list(count_loc[count_loc['city'] < 10]['index'])\n",
    "# remove these locations from the dataframe \n",
    "def city_correct2(x):\n",
    "    if x in remove_loc:\n",
    "        return 'remove'\n",
    "    else:\n",
    "        return x\n",
    "yelp_businesses_df['city'] = yelp_businesses_df['city'].apply(city_correct2)\n",
    "yelp_businesses_df = yelp_businesses_df[yelp_businesses_df['city'] != 'remove']"
   ]
  },
  {
   "cell_type": "markdown",
   "id": "a4765a36",
   "metadata": {},
   "source": [
    "#### 3. Price"
   ]
  },
  {
   "cell_type": "code",
   "execution_count": 19,
   "id": "5132f7b8",
   "metadata": {},
   "outputs": [
    {
     "data": {
      "text/plain": [
       "array(['$', '$$', '$$$', nan, '$$$$'], dtype=object)"
      ]
     },
     "execution_count": 19,
     "metadata": {},
     "output_type": "execute_result"
    }
   ],
   "source": [
    "# check the distinct values of the price\n",
    "yelp_businesses_df['price'].unique()"
   ]
  },
  {
   "cell_type": "markdown",
   "id": "377dddd6",
   "metadata": {},
   "source": [
    "We will convert the **price** column from categorical data to numerical data as the following steps:\n",
    "- \\\\$: become to 1.\n",
    "- \\\\$\\\\$: become to 2.\n",
    "- \\\\$\\\\$\\\\$: become to 3.\n",
    "- \\\\$\\\\$\\\\$\\\\$: become to 4."
   ]
  },
  {
   "cell_type": "code",
   "execution_count": 20,
   "id": "dbd000c8",
   "metadata": {},
   "outputs": [],
   "source": [
    "def convert_price(x):\n",
    "    if x == '$':\n",
    "        return 1\n",
    "    elif x == '$$':\n",
    "        return 2\n",
    "    elif x == '$$$':\n",
    "        return 3\n",
    "    elif x == '$$$$':\n",
    "        return 4"
   ]
  },
  {
   "cell_type": "code",
   "execution_count": 21,
   "id": "016b77ae",
   "metadata": {},
   "outputs": [],
   "source": [
    "yelp_businesses_df['price'] = yelp_businesses_df['price'].apply(convert_price)"
   ]
  },
  {
   "cell_type": "markdown",
   "id": "82784a9f",
   "metadata": {},
   "source": [
    "#### 4. Working with missing values"
   ]
  },
  {
   "cell_type": "markdown",
   "id": "69b88232",
   "metadata": {},
   "source": [
    "In this project, our goal is to make suggestions that match with a student's criteria such as distance or restaurant type. Therefore, if a business doesn't have an obvious address (no street address & only show city information), we cannot calculate the approximate distance and commuting time for users to consider. For the next steps, we need to remove businesses which don't have a full address. "
   ]
  },
  {
   "cell_type": "code",
   "execution_count": 22,
   "id": "0051128c",
   "metadata": {},
   "outputs": [
    {
     "data": {
      "text/html": [
       "<div>\n",
       "<style scoped>\n",
       "    .dataframe tbody tr th:only-of-type {\n",
       "        vertical-align: middle;\n",
       "    }\n",
       "\n",
       "    .dataframe tbody tr th {\n",
       "        vertical-align: top;\n",
       "    }\n",
       "\n",
       "    .dataframe thead th {\n",
       "        text-align: right;\n",
       "    }\n",
       "</style>\n",
       "<table border=\"1\" class=\"dataframe\">\n",
       "  <thead>\n",
       "    <tr style=\"text-align: right;\">\n",
       "      <th></th>\n",
       "      <th>id</th>\n",
       "      <th>alias</th>\n",
       "      <th>name</th>\n",
       "      <th>image_url</th>\n",
       "      <th>is_closed</th>\n",
       "      <th>url</th>\n",
       "      <th>review_count</th>\n",
       "      <th>categories</th>\n",
       "      <th>rating</th>\n",
       "      <th>coordinates</th>\n",
       "      <th>...</th>\n",
       "      <th>phone</th>\n",
       "      <th>display_phone</th>\n",
       "      <th>distance</th>\n",
       "      <th>latitude</th>\n",
       "      <th>longitude</th>\n",
       "      <th>street</th>\n",
       "      <th>city</th>\n",
       "      <th>state</th>\n",
       "      <th>zip_code</th>\n",
       "      <th>display_address</th>\n",
       "    </tr>\n",
       "  </thead>\n",
       "  <tbody>\n",
       "    <tr>\n",
       "      <th>111</th>\n",
       "      <td>85xkWE5SZQ6H5gSZ8FmytA</td>\n",
       "      <td>sussys-cakes-fairfax-4</td>\n",
       "      <td>Sussy's Cakes</td>\n",
       "      <td>https://s3-media2.fl.yelpcdn.com/bphoto/ppbxP1...</td>\n",
       "      <td>False</td>\n",
       "      <td>https://www.yelp.com/biz/sussys-cakes-fairfax-...</td>\n",
       "      <td>36</td>\n",
       "      <td>[{'alias': 'customcakes', 'title': 'Custom Cak...</td>\n",
       "      <td>5</td>\n",
       "      <td>{'latitude': 38.8060646057129, 'longitude': -7...</td>\n",
       "      <td>...</td>\n",
       "      <td>+17035950341</td>\n",
       "      <td>(703) 595-0341</td>\n",
       "      <td>3845.17</td>\n",
       "      <td>38.806065</td>\n",
       "      <td>-77.296906</td>\n",
       "      <td></td>\n",
       "      <td>Fairfax</td>\n",
       "      <td>VA</td>\n",
       "      <td>22032</td>\n",
       "      <td>[Fairfax, VA 22032]</td>\n",
       "    </tr>\n",
       "    <tr>\n",
       "      <th>119</th>\n",
       "      <td>x4p7zEKR4X9x3dhDuQRKrA</td>\n",
       "      <td>sugar-defined-fairfax-3</td>\n",
       "      <td>Sugar Defined</td>\n",
       "      <td>https://s3-media2.fl.yelpcdn.com/bphoto/3JTrHk...</td>\n",
       "      <td>False</td>\n",
       "      <td>https://www.yelp.com/biz/sugar-defined-fairfax...</td>\n",
       "      <td>30</td>\n",
       "      <td>[{'alias': 'bakeries', 'title': 'Bakeries'}, {...</td>\n",
       "      <td>5</td>\n",
       "      <td>{'latitude': 38.8268355, 'longitude': -77.2922...</td>\n",
       "      <td>...</td>\n",
       "      <td>+15713547235</td>\n",
       "      <td>(571) 354-7235</td>\n",
       "      <td>3845.17</td>\n",
       "      <td>38.826836</td>\n",
       "      <td>-77.292233</td>\n",
       "      <td></td>\n",
       "      <td>Fairfax</td>\n",
       "      <td>VA</td>\n",
       "      <td>22032</td>\n",
       "      <td>[Fairfax, VA 22032]</td>\n",
       "    </tr>\n",
       "    <tr>\n",
       "      <th>204</th>\n",
       "      <td>0eUse5IhFL5CyOHEMhf31Q</td>\n",
       "      <td>sophisticake-fairfax</td>\n",
       "      <td>Sophisticake</td>\n",
       "      <td>https://s3-media4.fl.yelpcdn.com/bphoto/8YDDyt...</td>\n",
       "      <td>False</td>\n",
       "      <td>https://www.yelp.com/biz/sophisticake-fairfax?...</td>\n",
       "      <td>24</td>\n",
       "      <td>[{'alias': 'cupcakes', 'title': 'Cupcakes'}, {...</td>\n",
       "      <td>5</td>\n",
       "      <td>{'latitude': 38.80596, 'longitude': -77.29672}</td>\n",
       "      <td>...</td>\n",
       "      <td>+17033628790</td>\n",
       "      <td>(703) 362-8790</td>\n",
       "      <td>3845.17</td>\n",
       "      <td>38.805960</td>\n",
       "      <td>-77.296720</td>\n",
       "      <td></td>\n",
       "      <td>Fairfax</td>\n",
       "      <td>VA</td>\n",
       "      <td>22032</td>\n",
       "      <td>[Fairfax, VA 22032]</td>\n",
       "    </tr>\n",
       "    <tr>\n",
       "      <th>212</th>\n",
       "      <td>DdWsb2a3NjMO6Hw7tWE5LA</td>\n",
       "      <td>the-cupcake-delivers-fairfax</td>\n",
       "      <td>The Cupcake Delivers</td>\n",
       "      <td>https://s3-media2.fl.yelpcdn.com/bphoto/kHRBV3...</td>\n",
       "      <td>False</td>\n",
       "      <td>https://www.yelp.com/biz/the-cupcake-delivers-...</td>\n",
       "      <td>54</td>\n",
       "      <td>[{'alias': 'fooddeliveryservices', 'title': 'F...</td>\n",
       "      <td>4.5</td>\n",
       "      <td>{'latitude': 38.8756942749023, 'longitude': -7...</td>\n",
       "      <td>...</td>\n",
       "      <td>+15712150307</td>\n",
       "      <td>(571) 215-0307</td>\n",
       "      <td>6711.89</td>\n",
       "      <td>38.875694</td>\n",
       "      <td>-77.383904</td>\n",
       "      <td></td>\n",
       "      <td>Fairfax</td>\n",
       "      <td>VA</td>\n",
       "      <td>22033</td>\n",
       "      <td>[Fairfax, VA 22033]</td>\n",
       "    </tr>\n",
       "    <tr>\n",
       "      <th>223</th>\n",
       "      <td>azp40EHJ_RCa62o6t219RQ</td>\n",
       "      <td>artzy-custom-cakes-oakton</td>\n",
       "      <td>Artzy Custom Cakes</td>\n",
       "      <td>https://s3-media3.fl.yelpcdn.com/bphoto/hZVj47...</td>\n",
       "      <td>False</td>\n",
       "      <td>https://www.yelp.com/biz/artzy-custom-cakes-oa...</td>\n",
       "      <td>54</td>\n",
       "      <td>[{'alias': 'customcakes', 'title': 'Custom Cak...</td>\n",
       "      <td>5</td>\n",
       "      <td>{'latitude': 38.891056060791, 'longitude': -77...</td>\n",
       "      <td>...</td>\n",
       "      <td>+17038889401</td>\n",
       "      <td>(703) 888-9401</td>\n",
       "      <td>4128.77</td>\n",
       "      <td>38.891056</td>\n",
       "      <td>-77.329781</td>\n",
       "      <td></td>\n",
       "      <td>Oakton</td>\n",
       "      <td>VA</td>\n",
       "      <td>22124</td>\n",
       "      <td>[Oakton, VA 22124]</td>\n",
       "    </tr>\n",
       "    <tr>\n",
       "      <th>...</th>\n",
       "      <td>...</td>\n",
       "      <td>...</td>\n",
       "      <td>...</td>\n",
       "      <td>...</td>\n",
       "      <td>...</td>\n",
       "      <td>...</td>\n",
       "      <td>...</td>\n",
       "      <td>...</td>\n",
       "      <td>...</td>\n",
       "      <td>...</td>\n",
       "      <td>...</td>\n",
       "      <td>...</td>\n",
       "      <td>...</td>\n",
       "      <td>...</td>\n",
       "      <td>...</td>\n",
       "      <td>...</td>\n",
       "      <td>...</td>\n",
       "      <td>...</td>\n",
       "      <td>...</td>\n",
       "      <td>...</td>\n",
       "      <td>...</td>\n",
       "    </tr>\n",
       "    <tr>\n",
       "      <th>3442</th>\n",
       "      <td>hxM4fKurGzS5WfB9kMTK3A</td>\n",
       "      <td>phowheels-washington-2</td>\n",
       "      <td>PhoWheels</td>\n",
       "      <td>https://s3-media2.fl.yelpcdn.com/bphoto/aYuybR...</td>\n",
       "      <td>False</td>\n",
       "      <td>https://www.yelp.com/biz/phowheels-washington-...</td>\n",
       "      <td>343</td>\n",
       "      <td>[{'alias': 'vietnamese', 'title': 'Vietnamese'...</td>\n",
       "      <td>4.5</td>\n",
       "      <td>{'latitude': 38.90828, 'longitude': -77.06291}</td>\n",
       "      <td>...</td>\n",
       "      <td></td>\n",
       "      <td></td>\n",
       "      <td>3758.21</td>\n",
       "      <td>38.908280</td>\n",
       "      <td>-77.062910</td>\n",
       "      <td></td>\n",
       "      <td>Washington DC</td>\n",
       "      <td>DC</td>\n",
       "      <td>20007</td>\n",
       "      <td>[Washington, DC 20007]</td>\n",
       "    </tr>\n",
       "    <tr>\n",
       "      <th>3496</th>\n",
       "      <td>-i2jExohDYLUnuIE62AB3g</td>\n",
       "      <td>basil-thyme-washington</td>\n",
       "      <td>Basil Thyme</td>\n",
       "      <td>https://s3-media2.fl.yelpcdn.com/bphoto/uZK9HP...</td>\n",
       "      <td>False</td>\n",
       "      <td>https://www.yelp.com/biz/basil-thyme-washingto...</td>\n",
       "      <td>298</td>\n",
       "      <td>[{'alias': 'italian', 'title': 'Italian'}, {'a...</td>\n",
       "      <td>4.5</td>\n",
       "      <td>{'latitude': 38.87785, 'longitude': -77.01568}</td>\n",
       "      <td>...</td>\n",
       "      <td>+18555887282</td>\n",
       "      <td>(855) 588-7282</td>\n",
       "      <td>4039.53</td>\n",
       "      <td>38.877850</td>\n",
       "      <td>-77.015680</td>\n",
       "      <td></td>\n",
       "      <td>Washington DC</td>\n",
       "      <td>DC</td>\n",
       "      <td>20024</td>\n",
       "      <td>[Washington, DC 20024]</td>\n",
       "    </tr>\n",
       "    <tr>\n",
       "      <th>3550</th>\n",
       "      <td>-DO9zy9e9B4bx_g83F0kkw</td>\n",
       "      <td>pho-junkies-washington</td>\n",
       "      <td>Pho Junkies</td>\n",
       "      <td>https://s3-media1.fl.yelpcdn.com/bphoto/CTiYaX...</td>\n",
       "      <td>False</td>\n",
       "      <td>https://www.yelp.com/biz/pho-junkies-washingto...</td>\n",
       "      <td>169</td>\n",
       "      <td>[{'alias': 'vietnamese', 'title': 'Vietnamese'...</td>\n",
       "      <td>4.5</td>\n",
       "      <td>{'latitude': 38.87742, 'longitude': -77.01632}</td>\n",
       "      <td>...</td>\n",
       "      <td>+12026435401</td>\n",
       "      <td>(202) 643-5401</td>\n",
       "      <td>4039.53</td>\n",
       "      <td>38.877420</td>\n",
       "      <td>-77.016320</td>\n",
       "      <td></td>\n",
       "      <td>Washington DC</td>\n",
       "      <td>DC</td>\n",
       "      <td>20024</td>\n",
       "      <td>[Washington, DC 20024]</td>\n",
       "    </tr>\n",
       "    <tr>\n",
       "      <th>3689</th>\n",
       "      <td>x_7P7SNHmPKpLVnlY_IvPQ</td>\n",
       "      <td>far-east-taco-grille-truck-washington</td>\n",
       "      <td>Far East Taco Grille - Truck</td>\n",
       "      <td>https://s3-media1.fl.yelpcdn.com/bphoto/CpoQNs...</td>\n",
       "      <td>False</td>\n",
       "      <td>https://www.yelp.com/biz/far-east-taco-grille-...</td>\n",
       "      <td>222</td>\n",
       "      <td>[{'alias': 'asianfusion', 'title': 'Asian Fusi...</td>\n",
       "      <td>4</td>\n",
       "      <td>{'latitude': 38.919849395752, 'longitude': -77...</td>\n",
       "      <td>...</td>\n",
       "      <td>+12026014346</td>\n",
       "      <td>(202) 601-4346</td>\n",
       "      <td>1001.21</td>\n",
       "      <td>38.919849</td>\n",
       "      <td>-77.037216</td>\n",
       "      <td></td>\n",
       "      <td>Washington DC</td>\n",
       "      <td>DC</td>\n",
       "      <td>20009</td>\n",
       "      <td>[Washington, DC 20009]</td>\n",
       "    </tr>\n",
       "    <tr>\n",
       "      <th>3701</th>\n",
       "      <td>vnBCEA8g9a8dMVDjIWmEpA</td>\n",
       "      <td>roaming-rooster-washington-3</td>\n",
       "      <td>Roaming Rooster</td>\n",
       "      <td>https://s3-media1.fl.yelpcdn.com/bphoto/dc5is1...</td>\n",
       "      <td>False</td>\n",
       "      <td>https://www.yelp.com/biz/roaming-rooster-washi...</td>\n",
       "      <td>177</td>\n",
       "      <td>[{'alias': 'foodtrucks', 'title': 'Food Trucks...</td>\n",
       "      <td>4.5</td>\n",
       "      <td>{'latitude': 38.907958984375, 'longitude': -77...</td>\n",
       "      <td>...</td>\n",
       "      <td>+12025078734</td>\n",
       "      <td>(202) 507-8734</td>\n",
       "      <td>1494.33</td>\n",
       "      <td>38.907959</td>\n",
       "      <td>-77.018860</td>\n",
       "      <td></td>\n",
       "      <td>Washington DC</td>\n",
       "      <td>DC</td>\n",
       "      <td>20098</td>\n",
       "      <td>[Washington, DC 20098]</td>\n",
       "    </tr>\n",
       "  </tbody>\n",
       "</table>\n",
       "<p>82 rows × 23 columns</p>\n",
       "</div>"
      ],
      "text/plain": [
       "                          id                                  alias  \\\n",
       "111   85xkWE5SZQ6H5gSZ8FmytA                 sussys-cakes-fairfax-4   \n",
       "119   x4p7zEKR4X9x3dhDuQRKrA                sugar-defined-fairfax-3   \n",
       "204   0eUse5IhFL5CyOHEMhf31Q                   sophisticake-fairfax   \n",
       "212   DdWsb2a3NjMO6Hw7tWE5LA           the-cupcake-delivers-fairfax   \n",
       "223   azp40EHJ_RCa62o6t219RQ              artzy-custom-cakes-oakton   \n",
       "...                      ...                                    ...   \n",
       "3442  hxM4fKurGzS5WfB9kMTK3A                 phowheels-washington-2   \n",
       "3496  -i2jExohDYLUnuIE62AB3g                 basil-thyme-washington   \n",
       "3550  -DO9zy9e9B4bx_g83F0kkw                 pho-junkies-washington   \n",
       "3689  x_7P7SNHmPKpLVnlY_IvPQ  far-east-taco-grille-truck-washington   \n",
       "3701  vnBCEA8g9a8dMVDjIWmEpA           roaming-rooster-washington-3   \n",
       "\n",
       "                              name  \\\n",
       "111                  Sussy's Cakes   \n",
       "119                  Sugar Defined   \n",
       "204                   Sophisticake   \n",
       "212           The Cupcake Delivers   \n",
       "223             Artzy Custom Cakes   \n",
       "...                            ...   \n",
       "3442                     PhoWheels   \n",
       "3496                   Basil Thyme   \n",
       "3550                   Pho Junkies   \n",
       "3689  Far East Taco Grille - Truck   \n",
       "3701               Roaming Rooster   \n",
       "\n",
       "                                              image_url is_closed  \\\n",
       "111   https://s3-media2.fl.yelpcdn.com/bphoto/ppbxP1...     False   \n",
       "119   https://s3-media2.fl.yelpcdn.com/bphoto/3JTrHk...     False   \n",
       "204   https://s3-media4.fl.yelpcdn.com/bphoto/8YDDyt...     False   \n",
       "212   https://s3-media2.fl.yelpcdn.com/bphoto/kHRBV3...     False   \n",
       "223   https://s3-media3.fl.yelpcdn.com/bphoto/hZVj47...     False   \n",
       "...                                                 ...       ...   \n",
       "3442  https://s3-media2.fl.yelpcdn.com/bphoto/aYuybR...     False   \n",
       "3496  https://s3-media2.fl.yelpcdn.com/bphoto/uZK9HP...     False   \n",
       "3550  https://s3-media1.fl.yelpcdn.com/bphoto/CTiYaX...     False   \n",
       "3689  https://s3-media1.fl.yelpcdn.com/bphoto/CpoQNs...     False   \n",
       "3701  https://s3-media1.fl.yelpcdn.com/bphoto/dc5is1...     False   \n",
       "\n",
       "                                                    url review_count  \\\n",
       "111   https://www.yelp.com/biz/sussys-cakes-fairfax-...           36   \n",
       "119   https://www.yelp.com/biz/sugar-defined-fairfax...           30   \n",
       "204   https://www.yelp.com/biz/sophisticake-fairfax?...           24   \n",
       "212   https://www.yelp.com/biz/the-cupcake-delivers-...           54   \n",
       "223   https://www.yelp.com/biz/artzy-custom-cakes-oa...           54   \n",
       "...                                                 ...          ...   \n",
       "3442  https://www.yelp.com/biz/phowheels-washington-...          343   \n",
       "3496  https://www.yelp.com/biz/basil-thyme-washingto...          298   \n",
       "3550  https://www.yelp.com/biz/pho-junkies-washingto...          169   \n",
       "3689  https://www.yelp.com/biz/far-east-taco-grille-...          222   \n",
       "3701  https://www.yelp.com/biz/roaming-rooster-washi...          177   \n",
       "\n",
       "                                             categories rating  \\\n",
       "111   [{'alias': 'customcakes', 'title': 'Custom Cak...      5   \n",
       "119   [{'alias': 'bakeries', 'title': 'Bakeries'}, {...      5   \n",
       "204   [{'alias': 'cupcakes', 'title': 'Cupcakes'}, {...      5   \n",
       "212   [{'alias': 'fooddeliveryservices', 'title': 'F...    4.5   \n",
       "223   [{'alias': 'customcakes', 'title': 'Custom Cak...      5   \n",
       "...                                                 ...    ...   \n",
       "3442  [{'alias': 'vietnamese', 'title': 'Vietnamese'...    4.5   \n",
       "3496  [{'alias': 'italian', 'title': 'Italian'}, {'a...    4.5   \n",
       "3550  [{'alias': 'vietnamese', 'title': 'Vietnamese'...    4.5   \n",
       "3689  [{'alias': 'asianfusion', 'title': 'Asian Fusi...      4   \n",
       "3701  [{'alias': 'foodtrucks', 'title': 'Food Trucks...    4.5   \n",
       "\n",
       "                                            coordinates  ...         phone  \\\n",
       "111   {'latitude': 38.8060646057129, 'longitude': -7...  ...  +17035950341   \n",
       "119   {'latitude': 38.8268355, 'longitude': -77.2922...  ...  +15713547235   \n",
       "204      {'latitude': 38.80596, 'longitude': -77.29672}  ...  +17033628790   \n",
       "212   {'latitude': 38.8756942749023, 'longitude': -7...  ...  +15712150307   \n",
       "223   {'latitude': 38.891056060791, 'longitude': -77...  ...  +17038889401   \n",
       "...                                                 ...  ...           ...   \n",
       "3442     {'latitude': 38.90828, 'longitude': -77.06291}  ...                 \n",
       "3496     {'latitude': 38.87785, 'longitude': -77.01568}  ...  +18555887282   \n",
       "3550     {'latitude': 38.87742, 'longitude': -77.01632}  ...  +12026435401   \n",
       "3689  {'latitude': 38.919849395752, 'longitude': -77...  ...  +12026014346   \n",
       "3701  {'latitude': 38.907958984375, 'longitude': -77...  ...  +12025078734   \n",
       "\n",
       "       display_phone distance   latitude  longitude street           city  \\\n",
       "111   (703) 595-0341  3845.17  38.806065 -77.296906               Fairfax   \n",
       "119   (571) 354-7235  3845.17  38.826836 -77.292233               Fairfax   \n",
       "204   (703) 362-8790  3845.17  38.805960 -77.296720               Fairfax   \n",
       "212   (571) 215-0307  6711.89  38.875694 -77.383904               Fairfax   \n",
       "223   (703) 888-9401  4128.77  38.891056 -77.329781                Oakton   \n",
       "...              ...      ...        ...        ...    ...            ...   \n",
       "3442                  3758.21  38.908280 -77.062910         Washington DC   \n",
       "3496  (855) 588-7282  4039.53  38.877850 -77.015680         Washington DC   \n",
       "3550  (202) 643-5401  4039.53  38.877420 -77.016320         Washington DC   \n",
       "3689  (202) 601-4346  1001.21  38.919849 -77.037216         Washington DC   \n",
       "3701  (202) 507-8734  1494.33  38.907959 -77.018860         Washington DC   \n",
       "\n",
       "      state zip_code         display_address  \n",
       "111      VA    22032     [Fairfax, VA 22032]  \n",
       "119      VA    22032     [Fairfax, VA 22032]  \n",
       "204      VA    22032     [Fairfax, VA 22032]  \n",
       "212      VA    22033     [Fairfax, VA 22033]  \n",
       "223      VA    22124      [Oakton, VA 22124]  \n",
       "...     ...      ...                     ...  \n",
       "3442     DC    20007  [Washington, DC 20007]  \n",
       "3496     DC    20024  [Washington, DC 20024]  \n",
       "3550     DC    20024  [Washington, DC 20024]  \n",
       "3689     DC    20009  [Washington, DC 20009]  \n",
       "3701     DC    20098  [Washington, DC 20098]  \n",
       "\n",
       "[82 rows x 23 columns]"
      ]
     },
     "execution_count": 22,
     "metadata": {},
     "output_type": "execute_result"
    }
   ],
   "source": [
    "# check which restaurants don't have the full address\n",
    "yelp_businesses_df[yelp_businesses_df['street'] == '']"
   ]
  },
  {
   "cell_type": "code",
   "execution_count": 23,
   "id": "43aba6ae",
   "metadata": {},
   "outputs": [],
   "source": [
    "# remove businesses without a full address\n",
    "yelp_businesses_df = yelp_businesses_df[yelp_businesses_df['street'] != '']"
   ]
  },
  {
   "cell_type": "code",
   "execution_count": 24,
   "id": "161bf5b0",
   "metadata": {},
   "outputs": [
    {
     "data": {
      "text/plain": [
       "id                   0\n",
       "alias                0\n",
       "name                 0\n",
       "image_url            0\n",
       "is_closed            0\n",
       "url                  0\n",
       "review_count         0\n",
       "categories           0\n",
       "rating               0\n",
       "coordinates          0\n",
       "transactions         0\n",
       "price              706\n",
       "location             0\n",
       "phone                0\n",
       "display_phone        0\n",
       "distance             0\n",
       "latitude             1\n",
       "longitude            1\n",
       "street               0\n",
       "city                 0\n",
       "state                0\n",
       "zip_code             0\n",
       "display_address      0\n",
       "dtype: int64"
      ]
     },
     "execution_count": 24,
     "metadata": {},
     "output_type": "execute_result"
    }
   ],
   "source": [
    "# check null values\n",
    "yelp_businesses_df.isnull().sum()"
   ]
  },
  {
   "cell_type": "code",
   "execution_count": 25,
   "id": "ec52e715",
   "metadata": {},
   "outputs": [
    {
     "data": {
      "text/html": [
       "<div>\n",
       "<style scoped>\n",
       "    .dataframe tbody tr th:only-of-type {\n",
       "        vertical-align: middle;\n",
       "    }\n",
       "\n",
       "    .dataframe tbody tr th {\n",
       "        vertical-align: top;\n",
       "    }\n",
       "\n",
       "    .dataframe thead th {\n",
       "        text-align: right;\n",
       "    }\n",
       "</style>\n",
       "<table border=\"1\" class=\"dataframe\">\n",
       "  <thead>\n",
       "    <tr style=\"text-align: right;\">\n",
       "      <th></th>\n",
       "      <th>id</th>\n",
       "      <th>alias</th>\n",
       "      <th>name</th>\n",
       "      <th>image_url</th>\n",
       "      <th>is_closed</th>\n",
       "      <th>url</th>\n",
       "      <th>review_count</th>\n",
       "      <th>categories</th>\n",
       "      <th>rating</th>\n",
       "      <th>coordinates</th>\n",
       "      <th>...</th>\n",
       "      <th>phone</th>\n",
       "      <th>display_phone</th>\n",
       "      <th>distance</th>\n",
       "      <th>latitude</th>\n",
       "      <th>longitude</th>\n",
       "      <th>street</th>\n",
       "      <th>city</th>\n",
       "      <th>state</th>\n",
       "      <th>zip_code</th>\n",
       "      <th>display_address</th>\n",
       "    </tr>\n",
       "  </thead>\n",
       "  <tbody>\n",
       "    <tr>\n",
       "      <th>2602</th>\n",
       "      <td>iF3hWTz1ru3Q-chtybJTUg</td>\n",
       "      <td>community-event-yelps-donut-social-iii-arlington</td>\n",
       "      <td>Community Event: Yelp's Donut Social III</td>\n",
       "      <td>https://s3-media3.fl.yelpcdn.com/bphoto/0EmfYX...</td>\n",
       "      <td>False</td>\n",
       "      <td>https://www.yelp.com/biz/community-event-yelps...</td>\n",
       "      <td>9</td>\n",
       "      <td>[{'alias': 'yelpevents', 'title': 'Yelp Events'}]</td>\n",
       "      <td>5</td>\n",
       "      <td>{'latitude': None, 'longitude': None}</td>\n",
       "      <td>...</td>\n",
       "      <td></td>\n",
       "      <td></td>\n",
       "      <td>3273.78</td>\n",
       "      <td>NaN</td>\n",
       "      <td>NaN</td>\n",
       "      <td>2511 N Harrison St, Duck Donuts</td>\n",
       "      <td>Arlington</td>\n",
       "      <td>VA</td>\n",
       "      <td>22207</td>\n",
       "      <td>[2511 N Harrison St, Duck Donuts, Arlington, V...</td>\n",
       "    </tr>\n",
       "  </tbody>\n",
       "</table>\n",
       "<p>1 rows × 23 columns</p>\n",
       "</div>"
      ],
      "text/plain": [
       "                          id  \\\n",
       "2602  iF3hWTz1ru3Q-chtybJTUg   \n",
       "\n",
       "                                                 alias  \\\n",
       "2602  community-event-yelps-donut-social-iii-arlington   \n",
       "\n",
       "                                          name  \\\n",
       "2602  Community Event: Yelp's Donut Social III   \n",
       "\n",
       "                                              image_url is_closed  \\\n",
       "2602  https://s3-media3.fl.yelpcdn.com/bphoto/0EmfYX...     False   \n",
       "\n",
       "                                                    url review_count  \\\n",
       "2602  https://www.yelp.com/biz/community-event-yelps...            9   \n",
       "\n",
       "                                             categories rating  \\\n",
       "2602  [{'alias': 'yelpevents', 'title': 'Yelp Events'}]      5   \n",
       "\n",
       "                                coordinates  ... phone  display_phone  \\\n",
       "2602  {'latitude': None, 'longitude': None}  ...                        \n",
       "\n",
       "     distance latitude longitude                           street       city  \\\n",
       "2602  3273.78      NaN       NaN  2511 N Harrison St, Duck Donuts  Arlington   \n",
       "\n",
       "      state zip_code                                    display_address  \n",
       "2602     VA    22207  [2511 N Harrison St, Duck Donuts, Arlington, V...  \n",
       "\n",
       "[1 rows x 23 columns]"
      ]
     },
     "execution_count": 25,
     "metadata": {},
     "output_type": "execute_result"
    }
   ],
   "source": [
    "# examine the businesses which don't have null values for latitude and longitude\n",
    "yelp_businesses_df[yelp_businesses_df['latitude'].isnull()|yelp_businesses_df['longitude'].isnull()]"
   ]
  },
  {
   "cell_type": "markdown",
   "id": "9b03ed65",
   "metadata": {},
   "source": [
    "The Yelp API returns the 'None' values for this business's coordinate. However, we have a detailed address, so we are able to manually find the coordinate (via [link](https://www.businessyab.com/explore/united_states/virginia/arlington_county/arlington/yorktown/north_harrison_street/2511/duck_donuts.html)) & update the data."
   ]
  },
  {
   "cell_type": "code",
   "execution_count": 26,
   "id": "4bc7186d",
   "metadata": {},
   "outputs": [],
   "source": [
    "yelp_businesses_df.loc[2602,'latitude'] = 38.8977073\n",
    "yelp_businesses_df.loc[2602,'longitude'] = -77.1395893"
   ]
  },
  {
   "cell_type": "code",
   "execution_count": 28,
   "id": "a2f57b8f",
   "metadata": {},
   "outputs": [
    {
     "data": {
      "text/plain": [
       "3527"
      ]
     },
     "execution_count": 28,
     "metadata": {},
     "output_type": "execute_result"
    }
   ],
   "source": [
    "len(yelp_businesses_df)"
   ]
  },
  {
   "cell_type": "markdown",
   "id": "4c244821",
   "metadata": {},
   "source": [
    "## B. Distance Matrix API <a name='second'></a>"
   ]
  },
  {
   "cell_type": "markdown",
   "id": "c5225b58",
   "metadata": {},
   "source": [
    "Based on the coordinates of all businesses that we collected from Yelp Fusion API, we can use The Distance Matrix API to get the distance and time travelling between **the origin - the business** and **the destination - GMU Campus** (4400 University Dr, Fairfax, VA 22030). "
   ]
  },
  {
   "cell_type": "markdown",
   "id": "202267f5",
   "metadata": {},
   "source": [
    "### Data collection"
   ]
  },
  {
   "cell_type": "code",
   "execution_count": 29,
   "id": "902dbbec",
   "metadata": {},
   "outputs": [],
   "source": [
    "import googlemaps\n",
    "from itertools import tee"
   ]
  },
  {
   "cell_type": "code",
   "execution_count": 30,
   "id": "0251f1f6",
   "metadata": {},
   "outputs": [],
   "source": [
    "google_api_key = \"abcd\" # insert your API key"
   ]
  },
  {
   "cell_type": "code",
   "execution_count": 31,
   "id": "9183b137",
   "metadata": {},
   "outputs": [],
   "source": [
    "gmaps = googlemaps.Client(key=google_api_key)"
   ]
  },
  {
   "cell_type": "markdown",
   "id": "311b6dd2",
   "metadata": {},
   "source": [
    "Firstly, we extract the distance & time travelling from GMU campus to the business with the mode 'driving'."
   ]
  },
  {
   "cell_type": "code",
   "execution_count": 32,
   "id": "f6923d28",
   "metadata": {},
   "outputs": [
    {
     "name": "stdout",
     "output_type": "stream",
     "text": [
      "Done 100 businesses.\n",
      "Done 200 businesses.\n",
      "Done 300 businesses.\n",
      "Done 400 businesses.\n",
      "Done 500 businesses.\n",
      "Done 600 businesses.\n",
      "Done 700 businesses.\n",
      "Done 800 businesses.\n",
      "Done 900 businesses.\n",
      "Done 1000 businesses.\n",
      "Done 1100 businesses.\n",
      "Done 1200 businesses.\n",
      "Done 1300 businesses.\n",
      "Done 1400 businesses.\n",
      "Done 1500 businesses.\n",
      "Done 1600 businesses.\n",
      "Done 1700 businesses.\n",
      "Done 1800 businesses.\n",
      "Done 1900 businesses.\n",
      "Done 2000 businesses.\n",
      "Done 2100 businesses.\n",
      "Done 2200 businesses.\n",
      "Done 2300 businesses.\n",
      "Done 2400 businesses.\n",
      "Done 2500 businesses.\n",
      "Done 2600 businesses.\n",
      "Done 2700 businesses.\n",
      "Done 2800 businesses.\n",
      "Done 2900 businesses.\n",
      "Done 3000 businesses.\n",
      "Done 3100 businesses.\n",
      "Done 3200 businesses.\n",
      "Done 3300 businesses.\n",
      "Done 3400 businesses.\n",
      "Done 3500 businesses.\n"
     ]
    }
   ],
   "source": [
    "destination = \"4400 University Dr, Fairfax, VA 22030\"\n",
    "gmaps_data_path = os.path.join(cwd, 'data', 'gmaps_distances.json')\n",
    "\n",
    "# check whether we already collected the data\n",
    "if os.path.exists(gmaps_data_path):\n",
    "    with open(gmaps_data_path, 'r') as f:\n",
    "        gmaps_distance_dict = json.load(f)\n",
    "else:\n",
    "    gmaps_distance_dict = {}\n",
    "\n",
    "for i in range(len(yelp_businesses_df)):\n",
    "    business_id = yelp_businesses_df.iloc[i]['id']\n",
    "    latitude = yelp_businesses_df.iloc[i]['latitude']\n",
    "    longitude = yelp_businesses_df.iloc[i]['longitude']\n",
    "    origins = (latitude, longitude)\n",
    "    # send a request\n",
    "    if business_id not in gmaps_distance_dict:\n",
    "        result = gmaps.distance_matrix(origins=origins, destinations=destination, mode='driving')\n",
    "        # save the result into the dictionary 'gmaps_distance_dict'\n",
    "        gmaps_distance_dict[business_id] = result\n",
    "    \n",
    "    if (i+1) % 100 == 0:\n",
    "        print(f'Done {i+1} businesses.')\n",
    "    \n",
    "with open(gmaps_data_path, 'w') as f:\n",
    "    json.dump(gmaps_distance_dict, f, indent=4)"
   ]
  },
  {
   "cell_type": "markdown",
   "id": "6f7ad1fd",
   "metadata": {},
   "source": [
    "### Load the raw data into a dataframe"
   ]
  },
  {
   "cell_type": "code",
   "execution_count": 84,
   "id": "1d382213",
   "metadata": {},
   "outputs": [],
   "source": [
    "# load the data\n",
    "with open(gmaps_data_path, 'r') as f:\n",
    "    gmaps_distance_dict = json.load(f)"
   ]
  },
  {
   "cell_type": "code",
   "execution_count": 85,
   "id": "bd499a7e",
   "metadata": {},
   "outputs": [],
   "source": [
    "# create a dataframe\n",
    "business_id_lst = []\n",
    "distance_lst = []\n",
    "duration_lst = []\n",
    "\n",
    "for key, value in gmaps_distance_dict.items():\n",
    "    business_id = key\n",
    "    business_id_lst.append(business_id)\n",
    "    \n",
    "    # if the API call returns 'no results', we will store the distance & duration values of -1 \n",
    "    if 'distance' in value['rows'][0]['elements'][0]:\n",
    "        distance = value['rows'][0]['elements'][0]['distance']['value']\n",
    "    else:\n",
    "        distance = -1\n",
    "    distance_lst.append(distance)\n",
    "    \n",
    "    if 'distance' in value['rows'][0]['elements'][0]:\n",
    "        duration = value['rows'][0]['elements'][0]['duration']['value']\n",
    "    else:\n",
    "        duration = -1\n",
    "    duration_lst.append(duration)\n",
    "    \n",
    "ggmaps_df = pd.DataFrame(np.array([business_id_lst, distance_lst, duration_lst])).T\n",
    "ggmaps_df.columns = ['business_id', 'driving_distance', 'driving_duration']"
   ]
  },
  {
   "cell_type": "code",
   "execution_count": 86,
   "id": "818c13db",
   "metadata": {},
   "outputs": [
    {
     "data": {
      "text/html": [
       "<div>\n",
       "<style scoped>\n",
       "    .dataframe tbody tr th:only-of-type {\n",
       "        vertical-align: middle;\n",
       "    }\n",
       "\n",
       "    .dataframe tbody tr th {\n",
       "        vertical-align: top;\n",
       "    }\n",
       "\n",
       "    .dataframe thead th {\n",
       "        text-align: right;\n",
       "    }\n",
       "</style>\n",
       "<table border=\"1\" class=\"dataframe\">\n",
       "  <thead>\n",
       "    <tr style=\"text-align: right;\">\n",
       "      <th></th>\n",
       "      <th>business_id</th>\n",
       "      <th>driving_distance</th>\n",
       "      <th>driving_duration</th>\n",
       "    </tr>\n",
       "  </thead>\n",
       "  <tbody>\n",
       "    <tr>\n",
       "      <th>3522</th>\n",
       "      <td>hZ6Bk6thWcFGNRIYwH076A</td>\n",
       "      <td>35166</td>\n",
       "      <td>2185</td>\n",
       "    </tr>\n",
       "    <tr>\n",
       "      <th>3523</th>\n",
       "      <td>VDezBOqn852wfl_cRiERsg</td>\n",
       "      <td>34736</td>\n",
       "      <td>1876</td>\n",
       "    </tr>\n",
       "    <tr>\n",
       "      <th>3524</th>\n",
       "      <td>3uandIdocQdhEryIZEIF9Q</td>\n",
       "      <td>35986</td>\n",
       "      <td>1953</td>\n",
       "    </tr>\n",
       "    <tr>\n",
       "      <th>3525</th>\n",
       "      <td>odvIEE5vX2rb7bvF0B2EOA</td>\n",
       "      <td>35323</td>\n",
       "      <td>2157</td>\n",
       "    </tr>\n",
       "    <tr>\n",
       "      <th>3526</th>\n",
       "      <td>eqHzWyJ47ysq9S7m_stKuA</td>\n",
       "      <td>38706</td>\n",
       "      <td>2591</td>\n",
       "    </tr>\n",
       "  </tbody>\n",
       "</table>\n",
       "</div>"
      ],
      "text/plain": [
       "                 business_id driving_distance driving_duration\n",
       "3522  hZ6Bk6thWcFGNRIYwH076A            35166             2185\n",
       "3523  VDezBOqn852wfl_cRiERsg            34736             1876\n",
       "3524  3uandIdocQdhEryIZEIF9Q            35986             1953\n",
       "3525  odvIEE5vX2rb7bvF0B2EOA            35323             2157\n",
       "3526  eqHzWyJ47ysq9S7m_stKuA            38706             2591"
      ]
     },
     "execution_count": 86,
     "metadata": {},
     "output_type": "execute_result"
    }
   ],
   "source": [
    "ggmaps_df.tail()"
   ]
  },
  {
   "cell_type": "markdown",
   "id": "2eca1076",
   "metadata": {},
   "source": [
    "### Data Cleaning & Data Transformation"
   ]
  },
  {
   "cell_type": "code",
   "execution_count": 87,
   "id": "3f00a33c",
   "metadata": {},
   "outputs": [
    {
     "name": "stdout",
     "output_type": "stream",
     "text": [
      "The number of businesses that the Distance Matrix API cannot return the distance & durationfrom their locations to GMU campus: 0\n"
     ]
    }
   ],
   "source": [
    "# check which business_id has no result for distance & duration\n",
    "condition = (ggmaps_df['driving_distance'] == -1)|(ggmaps_df['driving_duration'] == -1)\n",
    "ggmaps_no_results = ggmaps_df[condition].copy()\n",
    "\n",
    "print('The number of businesses that the Distance Matrix API cannot return the distance & duration' \\\n",
    "      'from their locations to GMU campus: {}'.format(len(ggmaps_no_results))) "
   ]
  },
  {
   "cell_type": "code",
   "execution_count": 88,
   "id": "3bda8cf6",
   "metadata": {},
   "outputs": [
    {
     "data": {
      "text/html": [
       "<div>\n",
       "<style scoped>\n",
       "    .dataframe tbody tr th:only-of-type {\n",
       "        vertical-align: middle;\n",
       "    }\n",
       "\n",
       "    .dataframe tbody tr th {\n",
       "        vertical-align: top;\n",
       "    }\n",
       "\n",
       "    .dataframe thead th {\n",
       "        text-align: right;\n",
       "    }\n",
       "</style>\n",
       "<table border=\"1\" class=\"dataframe\">\n",
       "  <thead>\n",
       "    <tr style=\"text-align: right;\">\n",
       "      <th></th>\n",
       "      <th>business_id</th>\n",
       "      <th>driving_distance</th>\n",
       "      <th>driving_duration</th>\n",
       "    </tr>\n",
       "  </thead>\n",
       "  <tbody>\n",
       "    <tr>\n",
       "      <th>3522</th>\n",
       "      <td>hZ6Bk6thWcFGNRIYwH076A</td>\n",
       "      <td>35166</td>\n",
       "      <td>2185</td>\n",
       "    </tr>\n",
       "    <tr>\n",
       "      <th>3523</th>\n",
       "      <td>VDezBOqn852wfl_cRiERsg</td>\n",
       "      <td>34736</td>\n",
       "      <td>1876</td>\n",
       "    </tr>\n",
       "    <tr>\n",
       "      <th>3524</th>\n",
       "      <td>3uandIdocQdhEryIZEIF9Q</td>\n",
       "      <td>35986</td>\n",
       "      <td>1953</td>\n",
       "    </tr>\n",
       "    <tr>\n",
       "      <th>3525</th>\n",
       "      <td>odvIEE5vX2rb7bvF0B2EOA</td>\n",
       "      <td>35323</td>\n",
       "      <td>2157</td>\n",
       "    </tr>\n",
       "    <tr>\n",
       "      <th>3526</th>\n",
       "      <td>eqHzWyJ47ysq9S7m_stKuA</td>\n",
       "      <td>38706</td>\n",
       "      <td>2591</td>\n",
       "    </tr>\n",
       "  </tbody>\n",
       "</table>\n",
       "</div>"
      ],
      "text/plain": [
       "                 business_id driving_distance driving_duration\n",
       "3522  hZ6Bk6thWcFGNRIYwH076A            35166             2185\n",
       "3523  VDezBOqn852wfl_cRiERsg            34736             1876\n",
       "3524  3uandIdocQdhEryIZEIF9Q            35986             1953\n",
       "3525  odvIEE5vX2rb7bvF0B2EOA            35323             2157\n",
       "3526  eqHzWyJ47ysq9S7m_stKuA            38706             2591"
      ]
     },
     "execution_count": 88,
     "metadata": {},
     "output_type": "execute_result"
    }
   ],
   "source": [
    "ggmaps_df.tail()"
   ]
  },
  {
   "cell_type": "markdown",
   "id": "255d9763",
   "metadata": {},
   "source": [
    "### Create dataframes which correspond to relations in the database: 'business', 'transaction', 'category', 'review'. "
   ]
  },
  {
   "cell_type": "markdown",
   "id": "adcffafe",
   "metadata": {},
   "source": [
    "At the next steps, we will use the data collected above to create dataframes which correspond to relations in our database. \n",
    "- **business** (business_id: string, business_name: string, business_url: string, street: string, city: string, state: string, zip_code: string, phone: string, latitude: number, longitude: number, business_rating: number, is_closed: boolean, price: number, review_count: number, driving_distance: number, driving_duration: number).\n",
    "\n",
    "- **transaction** (transaction_id: string, transaction_name: string).\n",
    "\n",
    "- **category** (category_id: string, category_name: string).\n",
    "\n",
    "- **transaction_business** (business_id: references business, transaction_id: references transaction).\n",
    "\n",
    "- **category_business** (business_id: references business, category_id: references category)."
   ]
  },
  {
   "cell_type": "markdown",
   "id": "ffea4f11",
   "metadata": {},
   "source": [
    "#### a. business"
   ]
  },
  {
   "cell_type": "code",
   "execution_count": 89,
   "id": "9e730b3b",
   "metadata": {},
   "outputs": [],
   "source": [
    "# copy the columns from 'yelp_businesses_df' which is created by the data from Yelp\n",
    "business_df1 = yelp_businesses_df[['id', 'name', 'url', 'street', 'city', 'state', 'zip_code', 'phone', 'latitude',\n",
    "       'longitude', 'rating', 'is_closed', 'price', 'review_count']].copy()\n",
    "# rename some columns\n",
    "business_df1.rename({'id':'business_id', 'name':'business_name', 'url':'business_url', \n",
    "                    'rating':'business_rating'}, axis=1, inplace=True)"
   ]
  },
  {
   "cell_type": "code",
   "execution_count": 90,
   "id": "fe3b438e",
   "metadata": {},
   "outputs": [],
   "source": [
    "# copy 'driving_distance' & 'driving_duration' columns from 'ggmaps_df',  \n",
    "# which is created by the data from Google Maps - Distance Matrix API\n",
    "business_df2 = ggmaps_df[['business_id', 'driving_distance', 'driving_duration']].copy()"
   ]
  },
  {
   "cell_type": "markdown",
   "id": "464787ee",
   "metadata": {},
   "source": [
    "To create the **business_df** dataframe which saves all data needed for the **business** table in our database, we will merge the **business_df1** & **business_df2** above by the common value *business_id*."
   ]
  },
  {
   "cell_type": "code",
   "execution_count": 91,
   "id": "17adcd25",
   "metadata": {},
   "outputs": [],
   "source": [
    "business_df = pd.merge(business_df1, business_df2, how='inner', on='business_id')"
   ]
  },
  {
   "cell_type": "code",
   "execution_count": 92,
   "id": "0db29567",
   "metadata": {},
   "outputs": [
    {
     "data": {
      "text/plain": [
       "business_id          object\n",
       "business_name        object\n",
       "business_url         object\n",
       "street               object\n",
       "city                 object\n",
       "state                object\n",
       "zip_code             object\n",
       "phone                object\n",
       "latitude            float64\n",
       "longitude           float64\n",
       "business_rating      object\n",
       "is_closed            object\n",
       "price               float64\n",
       "review_count         object\n",
       "driving_distance     object\n",
       "driving_duration     object\n",
       "dtype: object"
      ]
     },
     "execution_count": 92,
     "metadata": {},
     "output_type": "execute_result"
    }
   ],
   "source": [
    "# check the data types\n",
    "business_df.dtypes"
   ]
  },
  {
   "cell_type": "code",
   "execution_count": 93,
   "id": "7d94b9ca",
   "metadata": {},
   "outputs": [],
   "source": [
    "# change the data types of some columns\n",
    "business_df['business_rating'] = business_df['business_rating'].astype(float)\n",
    "business_df['review_count'] = business_df['review_count'].astype(int)\n",
    "business_df['driving_distance'] = business_df['driving_distance'].astype(float)\n",
    "business_df['driving_duration'] = business_df['driving_duration'].astype(float)\n",
    "\n",
    "# convert the unit measure of driving_distance from m to km \n",
    "business_df['driving_distance'] = round(business_df['driving_distance']/1000, 2)\n",
    "# convert the unit measure of driving_duration from second to minute\n",
    "business_df['driving_duration'] = round(business_df['driving_duration']/60, 2)"
   ]
  },
  {
   "cell_type": "code",
   "execution_count": 94,
   "id": "6c8ef1f8",
   "metadata": {},
   "outputs": [
    {
     "data": {
      "text/plain": [
       "count    3527.000000\n",
       "mean       19.337556\n",
       "std        19.204514\n",
       "min         0.040000\n",
       "25%        11.770000\n",
       "50%        17.910000\n",
       "75%        24.970000\n",
       "max      1008.420000\n",
       "Name: driving_distance, dtype: float64"
      ]
     },
     "execution_count": 94,
     "metadata": {},
     "output_type": "execute_result"
    }
   ],
   "source": [
    "business_df['driving_distance'].describe()"
   ]
  },
  {
   "cell_type": "code",
   "execution_count": 95,
   "id": "1898878e",
   "metadata": {},
   "outputs": [
    {
     "data": {
      "text/html": [
       "<div>\n",
       "<style scoped>\n",
       "    .dataframe tbody tr th:only-of-type {\n",
       "        vertical-align: middle;\n",
       "    }\n",
       "\n",
       "    .dataframe tbody tr th {\n",
       "        vertical-align: top;\n",
       "    }\n",
       "\n",
       "    .dataframe thead th {\n",
       "        text-align: right;\n",
       "    }\n",
       "</style>\n",
       "<table border=\"1\" class=\"dataframe\">\n",
       "  <thead>\n",
       "    <tr style=\"text-align: right;\">\n",
       "      <th></th>\n",
       "      <th>business_id</th>\n",
       "      <th>business_name</th>\n",
       "      <th>business_url</th>\n",
       "      <th>street</th>\n",
       "      <th>city</th>\n",
       "      <th>state</th>\n",
       "      <th>zip_code</th>\n",
       "      <th>phone</th>\n",
       "      <th>latitude</th>\n",
       "      <th>longitude</th>\n",
       "      <th>business_rating</th>\n",
       "      <th>is_closed</th>\n",
       "      <th>price</th>\n",
       "      <th>review_count</th>\n",
       "      <th>driving_distance</th>\n",
       "      <th>driving_duration</th>\n",
       "    </tr>\n",
       "  </thead>\n",
       "  <tbody>\n",
       "    <tr>\n",
       "      <th>2459</th>\n",
       "      <td>iF3hWTz1ru3Q-chtybJTUg</td>\n",
       "      <td>Community Event: Yelp's Donut Social III</td>\n",
       "      <td>https://www.yelp.com/biz/community-event-yelps...</td>\n",
       "      <td>2511 N Harrison St, Duck Donuts</td>\n",
       "      <td>Arlington</td>\n",
       "      <td>VA</td>\n",
       "      <td>22207</td>\n",
       "      <td></td>\n",
       "      <td>38.897707</td>\n",
       "      <td>-77.139589</td>\n",
       "      <td>5.0</td>\n",
       "      <td>False</td>\n",
       "      <td>NaN</td>\n",
       "      <td>9</td>\n",
       "      <td>1008.42</td>\n",
       "      <td>560.38</td>\n",
       "    </tr>\n",
       "  </tbody>\n",
       "</table>\n",
       "</div>"
      ],
      "text/plain": [
       "                 business_id                             business_name  \\\n",
       "2459  iF3hWTz1ru3Q-chtybJTUg  Community Event: Yelp's Donut Social III   \n",
       "\n",
       "                                           business_url  \\\n",
       "2459  https://www.yelp.com/biz/community-event-yelps...   \n",
       "\n",
       "                               street       city state zip_code phone  \\\n",
       "2459  2511 N Harrison St, Duck Donuts  Arlington    VA    22207         \n",
       "\n",
       "       latitude  longitude  business_rating is_closed  price  review_count  \\\n",
       "2459  38.897707 -77.139589              5.0     False    NaN             9   \n",
       "\n",
       "      driving_distance  driving_duration  \n",
       "2459           1008.42            560.38  "
      ]
     },
     "execution_count": 95,
     "metadata": {},
     "output_type": "execute_result"
    }
   ],
   "source": [
    "# recheck outliers \n",
    "distance_outlier = business_df['driving_distance'].max()\n",
    "business_df[business_df['driving_distance'] == distance_outlier]"
   ]
  },
  {
   "cell_type": "markdown",
   "id": "abfe172d",
   "metadata": {},
   "source": [
    "It seems that there is an error for the distance calculation for this business. With this address, Google maps returns: \n",
    "- driving distance: 22.05 km\n",
    "- driving duration: 24 minutes"
   ]
  },
  {
   "cell_type": "code",
   "execution_count": 96,
   "id": "9062991f",
   "metadata": {},
   "outputs": [],
   "source": [
    "# update the right result\n",
    "business_df.iloc[2459, 14] = 22.05\n",
    "business_df.iloc[2459, 15] = 24.00"
   ]
  },
  {
   "cell_type": "code",
   "execution_count": 133,
   "id": "854a1a9c",
   "metadata": {},
   "outputs": [
    {
     "name": "stdout",
     "output_type": "stream",
     "text": [
      "The business_df contains 16 columns and 3527 rows.\n"
     ]
    },
    {
     "data": {
      "text/html": [
       "<div>\n",
       "<style scoped>\n",
       "    .dataframe tbody tr th:only-of-type {\n",
       "        vertical-align: middle;\n",
       "    }\n",
       "\n",
       "    .dataframe tbody tr th {\n",
       "        vertical-align: top;\n",
       "    }\n",
       "\n",
       "    .dataframe thead th {\n",
       "        text-align: right;\n",
       "    }\n",
       "</style>\n",
       "<table border=\"1\" class=\"dataframe\">\n",
       "  <thead>\n",
       "    <tr style=\"text-align: right;\">\n",
       "      <th></th>\n",
       "      <th>business_id</th>\n",
       "      <th>business_name</th>\n",
       "      <th>business_url</th>\n",
       "      <th>street</th>\n",
       "      <th>city</th>\n",
       "      <th>state</th>\n",
       "      <th>zip_code</th>\n",
       "      <th>phone</th>\n",
       "      <th>latitude</th>\n",
       "      <th>longitude</th>\n",
       "      <th>business_rating</th>\n",
       "      <th>is_closed</th>\n",
       "      <th>price</th>\n",
       "      <th>review_count</th>\n",
       "      <th>driving_distance</th>\n",
       "      <th>driving_duration</th>\n",
       "    </tr>\n",
       "  </thead>\n",
       "  <tbody>\n",
       "    <tr>\n",
       "      <th>0</th>\n",
       "      <td>KSPpsm1Kxxg8Y2sgQKuqSQ</td>\n",
       "      <td>De Clieu Coffee &amp; Sandwich</td>\n",
       "      <td>https://www.yelp.com/biz/de-clieu-coffee-and-s...</td>\n",
       "      <td>10389 Main St, Ste B</td>\n",
       "      <td>Fairfax</td>\n",
       "      <td>VA</td>\n",
       "      <td>22030</td>\n",
       "      <td>+17035910309</td>\n",
       "      <td>38.845808</td>\n",
       "      <td>-77.305247</td>\n",
       "      <td>4.5</td>\n",
       "      <td>False</td>\n",
       "      <td>1.0</td>\n",
       "      <td>845</td>\n",
       "      <td>1.81</td>\n",
       "      <td>4.05</td>\n",
       "    </tr>\n",
       "    <tr>\n",
       "      <th>1</th>\n",
       "      <td>iKyRzxyEN-C-D6NrEEa7TA</td>\n",
       "      <td>Sisters Thai</td>\n",
       "      <td>https://www.yelp.com/biz/sisters-thai-fairfax?...</td>\n",
       "      <td>4004 University Dr</td>\n",
       "      <td>Fairfax</td>\n",
       "      <td>VA</td>\n",
       "      <td>22030</td>\n",
       "      <td>+17032679619</td>\n",
       "      <td>38.845760</td>\n",
       "      <td>-77.305610</td>\n",
       "      <td>4.0</td>\n",
       "      <td>False</td>\n",
       "      <td>2.0</td>\n",
       "      <td>1114</td>\n",
       "      <td>1.80</td>\n",
       "      <td>4.37</td>\n",
       "    </tr>\n",
       "    <tr>\n",
       "      <th>2</th>\n",
       "      <td>DtU_GcDsnOpOcowgaVgf0Q</td>\n",
       "      <td>Sushi Prince</td>\n",
       "      <td>https://www.yelp.com/biz/sushi-prince-fairfax?...</td>\n",
       "      <td>10256 Main St</td>\n",
       "      <td>Fairfax</td>\n",
       "      <td>VA</td>\n",
       "      <td>22030</td>\n",
       "      <td>+17033830588</td>\n",
       "      <td>38.845263</td>\n",
       "      <td>-77.301053</td>\n",
       "      <td>4.0</td>\n",
       "      <td>False</td>\n",
       "      <td>2.0</td>\n",
       "      <td>853</td>\n",
       "      <td>2.15</td>\n",
       "      <td>6.72</td>\n",
       "    </tr>\n",
       "  </tbody>\n",
       "</table>\n",
       "</div>"
      ],
      "text/plain": [
       "              business_id               business_name  \\\n",
       "0  KSPpsm1Kxxg8Y2sgQKuqSQ  De Clieu Coffee & Sandwich   \n",
       "1  iKyRzxyEN-C-D6NrEEa7TA                Sisters Thai   \n",
       "2  DtU_GcDsnOpOcowgaVgf0Q                Sushi Prince   \n",
       "\n",
       "                                        business_url                street  \\\n",
       "0  https://www.yelp.com/biz/de-clieu-coffee-and-s...  10389 Main St, Ste B   \n",
       "1  https://www.yelp.com/biz/sisters-thai-fairfax?...    4004 University Dr   \n",
       "2  https://www.yelp.com/biz/sushi-prince-fairfax?...         10256 Main St   \n",
       "\n",
       "      city state zip_code         phone   latitude  longitude  \\\n",
       "0  Fairfax    VA    22030  +17035910309  38.845808 -77.305247   \n",
       "1  Fairfax    VA    22030  +17032679619  38.845760 -77.305610   \n",
       "2  Fairfax    VA    22030  +17033830588  38.845263 -77.301053   \n",
       "\n",
       "   business_rating is_closed  price  review_count  driving_distance  \\\n",
       "0              4.5     False    1.0           845              1.81   \n",
       "1              4.0     False    2.0          1114              1.80   \n",
       "2              4.0     False    2.0           853              2.15   \n",
       "\n",
       "   driving_duration  \n",
       "0              4.05  \n",
       "1              4.37  \n",
       "2              6.72  "
      ]
     },
     "execution_count": 133,
     "metadata": {},
     "output_type": "execute_result"
    }
   ],
   "source": [
    "print('The business_df contains {} columns and {} rows.'.format(business_df.shape[1], business_df.shape[0]))\n",
    "business_df.head(3)"
   ]
  },
  {
   "cell_type": "markdown",
   "id": "9686b38c",
   "metadata": {},
   "source": [
    "#### b. transaction & transaction_business"
   ]
  },
  {
   "cell_type": "markdown",
   "id": "03c584c3",
   "metadata": {},
   "source": [
    "The **transactions** column shows a list of transactions that a business is registered for. The guideline on [Yelp](https://www.yelp.com/developers/documentation/v3/business_search) shows that there are three types of Yelp transactions: *pickup*, *delivery*, *restaurant_reservation*.\n",
    "\n",
    "We will extract the distinct values of the **transactions** column to make sure that there are only three types. "
   ]
  },
  {
   "cell_type": "code",
   "execution_count": 98,
   "id": "451c0591",
   "metadata": {},
   "outputs": [
    {
     "data": {
      "text/plain": [
       "array(['delivery', 'pickup, delivery', 'delivery, pickup',\n",
       "       'restaurant_reservation, delivery', '',\n",
       "       'delivery, restaurant_reservation', 'pickup',\n",
       "       'restaurant_reservation, delivery, pickup',\n",
       "       'delivery, restaurant_reservation, pickup',\n",
       "       'restaurant_reservation, pickup, delivery',\n",
       "       'pickup, delivery, restaurant_reservation',\n",
       "       'pickup, restaurant_reservation, delivery',\n",
       "       'restaurant_reservation', 'restaurant_reservation, pickup'],\n",
       "      dtype=object)"
      ]
     },
     "execution_count": 98,
     "metadata": {},
     "output_type": "execute_result"
    }
   ],
   "source": [
    "# check the unique values of the 'transactions' column\n",
    "yelp_businesses_df['transactions'].apply(lambda x:\", \".join(x)).unique()"
   ]
  },
  {
   "cell_type": "markdown",
   "id": "60b95964",
   "metadata": {},
   "source": [
    "It can be seen that the list of Yelp transactions contains only 3 values: *pickup*, *delivery*, *restaurant_reservation*.\n",
    "\n",
    "\n",
    "The next step is to create the **transaction_df** dataframe with two columns: *transaction_id*, *transaction_name*."
   ]
  },
  {
   "cell_type": "code",
   "execution_count": 99,
   "id": "5924462e",
   "metadata": {},
   "outputs": [],
   "source": [
    "# create the 'transaction_df' dataframe\n",
    "transaction_df = pd.DataFrame(np.array([list(range(1,4)), ['pickup', 'delivery', 'restaurant_reservation']])).T\n",
    "transaction_df.columns = ['transaction_id', 'transaction_name']\n",
    "# set the data type\n",
    "transaction_df['transaction_id'] = transaction_df['transaction_id'].astype(str)"
   ]
  },
  {
   "cell_type": "code",
   "execution_count": 100,
   "id": "26d21650",
   "metadata": {},
   "outputs": [
    {
     "data": {
      "text/html": [
       "<div>\n",
       "<style scoped>\n",
       "    .dataframe tbody tr th:only-of-type {\n",
       "        vertical-align: middle;\n",
       "    }\n",
       "\n",
       "    .dataframe tbody tr th {\n",
       "        vertical-align: top;\n",
       "    }\n",
       "\n",
       "    .dataframe thead th {\n",
       "        text-align: right;\n",
       "    }\n",
       "</style>\n",
       "<table border=\"1\" class=\"dataframe\">\n",
       "  <thead>\n",
       "    <tr style=\"text-align: right;\">\n",
       "      <th></th>\n",
       "      <th>transaction_id</th>\n",
       "      <th>transaction_name</th>\n",
       "    </tr>\n",
       "  </thead>\n",
       "  <tbody>\n",
       "    <tr>\n",
       "      <th>0</th>\n",
       "      <td>1</td>\n",
       "      <td>pickup</td>\n",
       "    </tr>\n",
       "    <tr>\n",
       "      <th>1</th>\n",
       "      <td>2</td>\n",
       "      <td>delivery</td>\n",
       "    </tr>\n",
       "    <tr>\n",
       "      <th>2</th>\n",
       "      <td>3</td>\n",
       "      <td>restaurant_reservation</td>\n",
       "    </tr>\n",
       "  </tbody>\n",
       "</table>\n",
       "</div>"
      ],
      "text/plain": [
       "  transaction_id        transaction_name\n",
       "0              1                  pickup\n",
       "1              2                delivery\n",
       "2              3  restaurant_reservation"
      ]
     },
     "execution_count": 100,
     "metadata": {},
     "output_type": "execute_result"
    }
   ],
   "source": [
    "transaction_df.head()"
   ]
  },
  {
   "cell_type": "markdown",
   "id": "1175a946",
   "metadata": {},
   "source": [
    "Then, we need to generate the **transaction_business_df** dataframe, including *business_id* and *transaction_id*."
   ]
  },
  {
   "cell_type": "code",
   "execution_count": 101,
   "id": "1cfdbfe3",
   "metadata": {},
   "outputs": [],
   "source": [
    "business_ids = []\n",
    "transaction_ids = []\n",
    "\n",
    "for i in range(len(yelp_businesses_df)):\n",
    "    business_id = yelp_businesses_df.iloc[i]['id']\n",
    "    business_tran = yelp_businesses_df.iloc[i]['transactions']\n",
    "    if business_tran != '':\n",
    "        for element in business_tran:\n",
    "            if element == 'pickup':\n",
    "                transaction_ids.append(1)\n",
    "            elif element == 'delivery':\n",
    "                transaction_ids.append(2)\n",
    "            elif element == 'restaurant_reservation':\n",
    "                transaction_ids.append(3)\n",
    "            business_ids.append(business_id)\n",
    "            \n",
    "# create the dataframe \n",
    "transaction_business_df = pd.DataFrame(np.array([business_ids, transaction_ids])).T\n",
    "transaction_business_df.columns = ['business_id', 'transaction_id']\n",
    "\n",
    "# set the data type\n",
    "transaction_business_df['transaction_id'] = transaction_business_df['transaction_id'].astype(str)"
   ]
  },
  {
   "cell_type": "code",
   "execution_count": 102,
   "id": "956a54a9",
   "metadata": {},
   "outputs": [
    {
     "name": "stdout",
     "output_type": "stream",
     "text": [
      "The transaction_business_df contains 2 columns and 4378 rows.\n"
     ]
    },
    {
     "data": {
      "text/html": [
       "<div>\n",
       "<style scoped>\n",
       "    .dataframe tbody tr th:only-of-type {\n",
       "        vertical-align: middle;\n",
       "    }\n",
       "\n",
       "    .dataframe tbody tr th {\n",
       "        vertical-align: top;\n",
       "    }\n",
       "\n",
       "    .dataframe thead th {\n",
       "        text-align: right;\n",
       "    }\n",
       "</style>\n",
       "<table border=\"1\" class=\"dataframe\">\n",
       "  <thead>\n",
       "    <tr style=\"text-align: right;\">\n",
       "      <th></th>\n",
       "      <th>business_id</th>\n",
       "      <th>transaction_id</th>\n",
       "    </tr>\n",
       "  </thead>\n",
       "  <tbody>\n",
       "    <tr>\n",
       "      <th>0</th>\n",
       "      <td>KSPpsm1Kxxg8Y2sgQKuqSQ</td>\n",
       "      <td>2</td>\n",
       "    </tr>\n",
       "    <tr>\n",
       "      <th>1</th>\n",
       "      <td>iKyRzxyEN-C-D6NrEEa7TA</td>\n",
       "      <td>1</td>\n",
       "    </tr>\n",
       "    <tr>\n",
       "      <th>2</th>\n",
       "      <td>iKyRzxyEN-C-D6NrEEa7TA</td>\n",
       "      <td>2</td>\n",
       "    </tr>\n",
       "  </tbody>\n",
       "</table>\n",
       "</div>"
      ],
      "text/plain": [
       "              business_id transaction_id\n",
       "0  KSPpsm1Kxxg8Y2sgQKuqSQ              2\n",
       "1  iKyRzxyEN-C-D6NrEEa7TA              1\n",
       "2  iKyRzxyEN-C-D6NrEEa7TA              2"
      ]
     },
     "execution_count": 102,
     "metadata": {},
     "output_type": "execute_result"
    }
   ],
   "source": [
    "print('The transaction_business_df contains {} columns and {} rows.'\\\n",
    "      .format(transaction_business_df.shape[1], transaction_business_df.shape[0]))\n",
    "transaction_business_df.head(3)"
   ]
  },
  {
   "cell_type": "markdown",
   "id": "8824d729",
   "metadata": {},
   "source": [
    "#### c. category & category_business"
   ]
  },
  {
   "cell_type": "markdown",
   "id": "74483c9d",
   "metadata": {},
   "source": [
    "The **category_df** dataframe contains 2 columns: *category_id*, *category_name*."
   ]
  },
  {
   "cell_type": "code",
   "execution_count": 103,
   "id": "2a5454c4",
   "metadata": {},
   "outputs": [],
   "source": [
    "# 'category_name': extract all the unique categories\n",
    "all_categories = set()\n",
    "for i in range(len(yelp_businesses_df)):\n",
    "    categories = yelp_businesses_df.iloc[i]['categories']\n",
    "    for element in categories:\n",
    "        category = element['title']\n",
    "        all_categories.add(category)"
   ]
  },
  {
   "cell_type": "code",
   "execution_count": 104,
   "id": "fd4bf977",
   "metadata": {},
   "outputs": [
    {
     "name": "stdout",
     "output_type": "stream",
     "text": [
      "The number of distinct categories is: 261.\n"
     ]
    }
   ],
   "source": [
    "print('The number of distinct categories is: {}.'.format(len(all_categories)))"
   ]
  },
  {
   "cell_type": "code",
   "execution_count": 105,
   "id": "77202579",
   "metadata": {},
   "outputs": [],
   "source": [
    "# create the 'category_id' column\n",
    "category_ids = list(range(1, len(all_categories)+1))\n",
    "# create the 'category_df' dataframe\n",
    "category_df = pd.DataFrame([category_ids, all_categories]).T\n",
    "category_df.columns = ['category_id', 'category_name']\n",
    "# set the data type\n",
    "category_df['category_id'] = category_df['category_id'].astype(str)"
   ]
  },
  {
   "cell_type": "code",
   "execution_count": 145,
   "id": "fabc3da6",
   "metadata": {},
   "outputs": [
    {
     "data": {
      "text/html": [
       "<div>\n",
       "<style scoped>\n",
       "    .dataframe tbody tr th:only-of-type {\n",
       "        vertical-align: middle;\n",
       "    }\n",
       "\n",
       "    .dataframe tbody tr th {\n",
       "        vertical-align: top;\n",
       "    }\n",
       "\n",
       "    .dataframe thead th {\n",
       "        text-align: right;\n",
       "    }\n",
       "</style>\n",
       "<table border=\"1\" class=\"dataframe\">\n",
       "  <thead>\n",
       "    <tr style=\"text-align: right;\">\n",
       "      <th></th>\n",
       "      <th>category_id</th>\n",
       "      <th>category_name</th>\n",
       "    </tr>\n",
       "  </thead>\n",
       "  <tbody>\n",
       "    <tr>\n",
       "      <th>256</th>\n",
       "      <td>257</td>\n",
       "      <td>Patisserie/Cake Shop</td>\n",
       "    </tr>\n",
       "    <tr>\n",
       "      <th>257</th>\n",
       "      <td>258</td>\n",
       "      <td>Butcher</td>\n",
       "    </tr>\n",
       "    <tr>\n",
       "      <th>258</th>\n",
       "      <td>259</td>\n",
       "      <td>DJs</td>\n",
       "    </tr>\n",
       "    <tr>\n",
       "      <th>259</th>\n",
       "      <td>260</td>\n",
       "      <td>Arabian</td>\n",
       "    </tr>\n",
       "    <tr>\n",
       "      <th>260</th>\n",
       "      <td>261</td>\n",
       "      <td>Steakhouses</td>\n",
       "    </tr>\n",
       "  </tbody>\n",
       "</table>\n",
       "</div>"
      ],
      "text/plain": [
       "    category_id         category_name\n",
       "256         257  Patisserie/Cake Shop\n",
       "257         258               Butcher\n",
       "258         259                   DJs\n",
       "259         260               Arabian\n",
       "260         261           Steakhouses"
      ]
     },
     "execution_count": 145,
     "metadata": {},
     "output_type": "execute_result"
    }
   ],
   "source": [
    "category_df.tail()"
   ]
  },
  {
   "cell_type": "markdown",
   "id": "97bbb053",
   "metadata": {},
   "source": [
    "Furthermore, we also need to create the '**category_business_df**' dataframe to describe the categories of each business. The dataframe has two columns: *business_id*, *category_id*."
   ]
  },
  {
   "cell_type": "code",
   "execution_count": 107,
   "id": "8bc4e28d",
   "metadata": {},
   "outputs": [],
   "source": [
    "business_ids = []\n",
    "category_names = []\n",
    "\n",
    "# for each row, we extract the id & the categories of each business\n",
    "for i in range(len(yelp_businesses_df)):\n",
    "    # extract the id\n",
    "    business_id = yelp_businesses_df.iloc[i]['id']\n",
    "    # extract the list of categories\n",
    "    business_cat = yelp_businesses_df.iloc[i]['categories']\n",
    "    # extract the atomic value \n",
    "    for element in business_cat:\n",
    "        category = element['title']\n",
    "        business_ids.append(business_id)\n",
    "        category_names.append(category)\n",
    "        \n",
    "# create the 'business_categoryname_df' dataframe\n",
    "business_categoryname_df = pd.DataFrame([business_ids, category_names]).T\n",
    "business_categoryname_df.columns = ['business_id', 'category_name']\n",
    "\n",
    "# merge 'business_categoryname_df' & 'category_df' \n",
    "# so that we can match the business_id with its corresponding category_id\n",
    "category_business_df = pd.merge(business_categoryname_df, category_df, on='category_name', how='left')\n",
    "\n",
    "# the 'category_business_df' dataframe only needs two columns business_id & category_id,\n",
    "# so we will drop the 'category_name' column. \n",
    "category_business_df.drop('category_name', axis=1, inplace=True)"
   ]
  },
  {
   "cell_type": "code",
   "execution_count": 108,
   "id": "34cea946",
   "metadata": {},
   "outputs": [
    {
     "name": "stdout",
     "output_type": "stream",
     "text": [
      "The category_business_df contains 2 columns and 7286 rows.\n"
     ]
    },
    {
     "data": {
      "text/html": [
       "<div>\n",
       "<style scoped>\n",
       "    .dataframe tbody tr th:only-of-type {\n",
       "        vertical-align: middle;\n",
       "    }\n",
       "\n",
       "    .dataframe tbody tr th {\n",
       "        vertical-align: top;\n",
       "    }\n",
       "\n",
       "    .dataframe thead th {\n",
       "        text-align: right;\n",
       "    }\n",
       "</style>\n",
       "<table border=\"1\" class=\"dataframe\">\n",
       "  <thead>\n",
       "    <tr style=\"text-align: right;\">\n",
       "      <th></th>\n",
       "      <th>business_id</th>\n",
       "      <th>category_id</th>\n",
       "    </tr>\n",
       "  </thead>\n",
       "  <tbody>\n",
       "    <tr>\n",
       "      <th>0</th>\n",
       "      <td>KSPpsm1Kxxg8Y2sgQKuqSQ</td>\n",
       "      <td>76</td>\n",
       "    </tr>\n",
       "    <tr>\n",
       "      <th>1</th>\n",
       "      <td>KSPpsm1Kxxg8Y2sgQKuqSQ</td>\n",
       "      <td>142</td>\n",
       "    </tr>\n",
       "    <tr>\n",
       "      <th>2</th>\n",
       "      <td>KSPpsm1Kxxg8Y2sgQKuqSQ</td>\n",
       "      <td>113</td>\n",
       "    </tr>\n",
       "  </tbody>\n",
       "</table>\n",
       "</div>"
      ],
      "text/plain": [
       "              business_id category_id\n",
       "0  KSPpsm1Kxxg8Y2sgQKuqSQ          76\n",
       "1  KSPpsm1Kxxg8Y2sgQKuqSQ         142\n",
       "2  KSPpsm1Kxxg8Y2sgQKuqSQ         113"
      ]
     },
     "execution_count": 108,
     "metadata": {},
     "output_type": "execute_result"
    }
   ],
   "source": [
    "print('The category_business_df contains {} columns and {} rows.'\\\n",
    "      .format(category_business_df.shape[1], category_business_df.shape[0]))\n",
    "category_business_df.head(3)"
   ]
  },
  {
   "cell_type": "markdown",
   "id": "5cb7ae69",
   "metadata": {},
   "source": [
    "## C. Yelp Fusion - Reviews <a name='third'></a>"
   ]
  },
  {
   "cell_type": "markdown",
   "id": "2792f275",
   "metadata": {},
   "source": [
    "### Data collection"
   ]
  },
  {
   "cell_type": "code",
   "execution_count": 109,
   "id": "7e338161",
   "metadata": {},
   "outputs": [],
   "source": [
    "url_review = 'https://api.yelp.com/v3/businesses/KSPpsm1Kxxg8Y2sgQKuqSQ/reviews'"
   ]
  },
  {
   "cell_type": "code",
   "execution_count": 110,
   "id": "3b412b39",
   "metadata": {},
   "outputs": [],
   "source": [
    "reviews_data_path = os.path.join(cwd, 'data', 'all_review_results.json')\n",
    "\n",
    "if os.path.exists(reviews_data_path):\n",
    "    with open(reviews_data_path, 'r') as f:\n",
    "        all_review_results = json.load(f)\n",
    "else:\n",
    "    all_review_results = {}"
   ]
  },
  {
   "cell_type": "code",
   "execution_count": 111,
   "id": "fd1eb013",
   "metadata": {},
   "outputs": [
    {
     "name": "stdout",
     "output_type": "stream",
     "text": [
      "Done 100 businesses\n",
      "Done 200 businesses\n",
      "Done 300 businesses\n",
      "Done 400 businesses\n",
      "Done 500 businesses\n",
      "Done 600 businesses\n",
      "Done 700 businesses\n",
      "Done 800 businesses\n",
      "Done 900 businesses\n",
      "Done 1000 businesses\n",
      "Done 1100 businesses\n",
      "Done 1200 businesses\n",
      "Done 1300 businesses\n",
      "Done 1400 businesses\n",
      "Done 1500 businesses\n",
      "Done 1600 businesses\n",
      "Done 1700 businesses\n",
      "Done 1800 businesses\n",
      "Done 1900 businesses\n",
      "Done 2000 businesses\n",
      "Done 2100 businesses\n",
      "Done 2200 businesses\n",
      "Done 2300 businesses\n",
      "Done 2400 businesses\n",
      "Done 2500 businesses\n",
      "Done 2600 businesses\n",
      "Done 2700 businesses\n",
      "Done 2800 businesses\n",
      "Done 2900 businesses\n",
      "Done 3000 businesses\n",
      "Done 3100 businesses\n",
      "Done 3200 businesses\n",
      "Done 3300 businesses\n",
      "Done 3400 businesses\n",
      "Done 3500 businesses\n"
     ]
    }
   ],
   "source": [
    "business_ids = list(yelp_businesses_df['id'].copy())\n",
    "\n",
    "for i, business_id in enumerate(business_ids):\n",
    "    # check whether we already collected the reviews of the business or not\n",
    "    # if not, we will call the API for this business_id\n",
    "    if business_id not in all_review_results:\n",
    "        url_review = 'https://api.yelp.com/v3/businesses/{}/reviews'.format(business_id)\n",
    "        response = requests.get(url_review, headers=headers)\n",
    "        review_result = json.loads(response.text)\n",
    "    \n",
    "        # if the response is an error or there are no reviews for this business, \n",
    "        # we will save the result as an empty list.\n",
    "        if 'reviews' in review_result:\n",
    "            reviews = review_result['reviews']\n",
    "            all_review_results[business_id] = reviews\n",
    "        else:\n",
    "            all_review_results[business_id] = []\n",
    "        \n",
    "    if (i+1) % 100 == 0:\n",
    "        print(f\"Done {i+1} businesses\")"
   ]
  },
  {
   "cell_type": "code",
   "execution_count": 112,
   "id": "31b78c81",
   "metadata": {},
   "outputs": [],
   "source": [
    "# save the data in a file\n",
    "with open(reviews_data_path, 'w') as f:\n",
    "    json.dump(all_review_results, f, indent = 4)"
   ]
  },
  {
   "cell_type": "markdown",
   "id": "7a29286f",
   "metadata": {},
   "source": [
    "### Load the raw data into a dataframe"
   ]
  },
  {
   "cell_type": "code",
   "execution_count": 113,
   "id": "15b7a0f4",
   "metadata": {},
   "outputs": [],
   "source": [
    "with open(reviews_data_path, 'r') as f:\n",
    "    all_review_results = json.load(f)"
   ]
  },
  {
   "cell_type": "code",
   "execution_count": 114,
   "id": "dcc1c239",
   "metadata": {},
   "outputs": [],
   "source": [
    "all_review_df = pd.DataFrame()\n",
    "\n",
    "for business_id, reviews in all_review_results.items():\n",
    "    if reviews != []:\n",
    "        for review in reviews:\n",
    "            review_details = pd.DataFrame.from_dict(review, orient='index').T\n",
    "            review_details['business_id'] = business_id\n",
    "            all_review_df = pd.concat([all_review_df, review_details], axis=0)\n",
    "\n",
    "# change the column name from 'id' to 'review_id'\n",
    "all_review_df.rename({'id':'review_id', 'rating':'review_rating'}, axis=1, inplace=True)"
   ]
  },
  {
   "cell_type": "code",
   "execution_count": 115,
   "id": "fa53151b",
   "metadata": {},
   "outputs": [],
   "source": [
    "all_review_df['user_id'] = all_review_df['user'].apply(lambda x: x['id'])\n",
    "all_review_df['user_profile_url'] = all_review_df['user'].apply(lambda x: x['profile_url'])\n",
    "all_review_df['user_image_url'] = all_review_df['user'].apply(lambda x: x['image_url'])\n",
    "all_review_df['user_name'] = all_review_df['user'].apply(lambda x: x['name'])"
   ]
  },
  {
   "cell_type": "code",
   "execution_count": 116,
   "id": "3bb63228",
   "metadata": {},
   "outputs": [
    {
     "data": {
      "text/html": [
       "<div>\n",
       "<style scoped>\n",
       "    .dataframe tbody tr th:only-of-type {\n",
       "        vertical-align: middle;\n",
       "    }\n",
       "\n",
       "    .dataframe tbody tr th {\n",
       "        vertical-align: top;\n",
       "    }\n",
       "\n",
       "    .dataframe thead th {\n",
       "        text-align: right;\n",
       "    }\n",
       "</style>\n",
       "<table border=\"1\" class=\"dataframe\">\n",
       "  <thead>\n",
       "    <tr style=\"text-align: right;\">\n",
       "      <th></th>\n",
       "      <th>review_id</th>\n",
       "      <th>url</th>\n",
       "      <th>text</th>\n",
       "      <th>review_rating</th>\n",
       "      <th>time_created</th>\n",
       "      <th>user</th>\n",
       "      <th>business_id</th>\n",
       "      <th>user_id</th>\n",
       "      <th>user_profile_url</th>\n",
       "      <th>user_image_url</th>\n",
       "      <th>user_name</th>\n",
       "    </tr>\n",
       "  </thead>\n",
       "  <tbody>\n",
       "    <tr>\n",
       "      <th>10260</th>\n",
       "      <td>CbMif9x2b66m39lq6H6nFw</td>\n",
       "      <td>https://www.yelp.com/biz/makan-washington?adju...</td>\n",
       "      <td>Stopped by because a friend recommended this p...</td>\n",
       "      <td>5</td>\n",
       "      <td>2021-06-23 19:14:06</td>\n",
       "      <td>{'id': 'XyjakaDxNLDtm1AYSTXHjQ', 'profile_url'...</td>\n",
       "      <td>eqHzWyJ47ysq9S7m_stKuA</td>\n",
       "      <td>XyjakaDxNLDtm1AYSTXHjQ</td>\n",
       "      <td>https://www.yelp.com/user_details?userid=Xyjak...</td>\n",
       "      <td>None</td>\n",
       "      <td>Ann K.</td>\n",
       "    </tr>\n",
       "    <tr>\n",
       "      <th>10261</th>\n",
       "      <td>TagcZMbXOYipKTOV4JzOGQ</td>\n",
       "      <td>https://www.yelp.com/biz/makan-washington?adju...</td>\n",
       "      <td>I've had the pleasure of experiencing Makan fr...</td>\n",
       "      <td>5</td>\n",
       "      <td>2021-07-20 16:50:59</td>\n",
       "      <td>{'id': 'ts7DQGHG_2zauWTNY6ZByA', 'profile_url'...</td>\n",
       "      <td>eqHzWyJ47ysq9S7m_stKuA</td>\n",
       "      <td>ts7DQGHG_2zauWTNY6ZByA</td>\n",
       "      <td>https://www.yelp.com/user_details?userid=ts7DQ...</td>\n",
       "      <td>https://s3-media4.fl.yelpcdn.com/photo/Rp0cvWE...</td>\n",
       "      <td>Liz K.</td>\n",
       "    </tr>\n",
       "    <tr>\n",
       "      <th>10262</th>\n",
       "      <td>LuJ5yhMV0pNzFz-aiQKSTA</td>\n",
       "      <td>https://www.yelp.com/biz/makan-washington?adju...</td>\n",
       "      <td>Really great neighborhood spot with authentic ...</td>\n",
       "      <td>4</td>\n",
       "      <td>2021-07-10 10:10:50</td>\n",
       "      <td>{'id': 'ZgEnGhJTg7mvLY2a5fYkNg', 'profile_url'...</td>\n",
       "      <td>eqHzWyJ47ysq9S7m_stKuA</td>\n",
       "      <td>ZgEnGhJTg7mvLY2a5fYkNg</td>\n",
       "      <td>https://www.yelp.com/user_details?userid=ZgEnG...</td>\n",
       "      <td>https://s3-media2.fl.yelpcdn.com/photo/pETj1Ts...</td>\n",
       "      <td>Philippe D.</td>\n",
       "    </tr>\n",
       "  </tbody>\n",
       "</table>\n",
       "</div>"
      ],
      "text/plain": [
       "                    review_id  \\\n",
       "10260  CbMif9x2b66m39lq6H6nFw   \n",
       "10261  TagcZMbXOYipKTOV4JzOGQ   \n",
       "10262  LuJ5yhMV0pNzFz-aiQKSTA   \n",
       "\n",
       "                                                     url  \\\n",
       "10260  https://www.yelp.com/biz/makan-washington?adju...   \n",
       "10261  https://www.yelp.com/biz/makan-washington?adju...   \n",
       "10262  https://www.yelp.com/biz/makan-washington?adju...   \n",
       "\n",
       "                                                    text review_rating  \\\n",
       "10260  Stopped by because a friend recommended this p...             5   \n",
       "10261  I've had the pleasure of experiencing Makan fr...             5   \n",
       "10262  Really great neighborhood spot with authentic ...             4   \n",
       "\n",
       "              time_created                                               user  \\\n",
       "10260  2021-06-23 19:14:06  {'id': 'XyjakaDxNLDtm1AYSTXHjQ', 'profile_url'...   \n",
       "10261  2021-07-20 16:50:59  {'id': 'ts7DQGHG_2zauWTNY6ZByA', 'profile_url'...   \n",
       "10262  2021-07-10 10:10:50  {'id': 'ZgEnGhJTg7mvLY2a5fYkNg', 'profile_url'...   \n",
       "\n",
       "                  business_id                 user_id  \\\n",
       "10260  eqHzWyJ47ysq9S7m_stKuA  XyjakaDxNLDtm1AYSTXHjQ   \n",
       "10261  eqHzWyJ47ysq9S7m_stKuA  ts7DQGHG_2zauWTNY6ZByA   \n",
       "10262  eqHzWyJ47ysq9S7m_stKuA  ZgEnGhJTg7mvLY2a5fYkNg   \n",
       "\n",
       "                                        user_profile_url  \\\n",
       "10260  https://www.yelp.com/user_details?userid=Xyjak...   \n",
       "10261  https://www.yelp.com/user_details?userid=ts7DQ...   \n",
       "10262  https://www.yelp.com/user_details?userid=ZgEnG...   \n",
       "\n",
       "                                          user_image_url    user_name  \n",
       "10260                                               None       Ann K.  \n",
       "10261  https://s3-media4.fl.yelpcdn.com/photo/Rp0cvWE...       Liz K.  \n",
       "10262  https://s3-media2.fl.yelpcdn.com/photo/pETj1Ts...  Philippe D.  "
      ]
     },
     "execution_count": 116,
     "metadata": {},
     "output_type": "execute_result"
    }
   ],
   "source": [
    "all_review_df.reset_index(inplace=True, drop=True)\n",
    "all_review_df.tail(3)"
   ]
  },
  {
   "cell_type": "code",
   "execution_count": 117,
   "id": "2e506a19",
   "metadata": {},
   "outputs": [],
   "source": [
    "# strip unnecessary white spaces in 'text' values\n",
    "def text_clean(a):\n",
    "    new_a = re.sub(r\"\\s{2,}\", \" \", a)\n",
    "    new_a = re.sub(r\"\\n+\", \" \", new_a)\n",
    "    return new_a\n",
    "\n",
    "all_review_df['text'] = all_review_df['text'].apply(text_clean)"
   ]
  },
  {
   "cell_type": "markdown",
   "id": "a7353eee",
   "metadata": {},
   "source": [
    "### Create dataframes which correspond to relations in the database: 'review' & 'user'"
   ]
  },
  {
   "cell_type": "markdown",
   "id": "7ea121fc",
   "metadata": {},
   "source": [
    "### a. review"
   ]
  },
  {
   "cell_type": "markdown",
   "id": "aa300446",
   "metadata": {},
   "source": [
    "The dataframe **review_df** has 6 columns: *review_id*, *review_rating*, *text*, *time_created*, *business_id*, *user_id*. "
   ]
  },
  {
   "cell_type": "code",
   "execution_count": 118,
   "id": "109e4f64",
   "metadata": {},
   "outputs": [],
   "source": [
    "review_df = all_review_df[['review_id', 'review_rating', 'text', \n",
    "                           'time_created', 'business_id', 'user_id']].copy().drop_duplicates(subset='review_id')\n",
    "review_df.reset_index(inplace=True, drop=True)"
   ]
  },
  {
   "cell_type": "code",
   "execution_count": 119,
   "id": "d6f1c30d",
   "metadata": {},
   "outputs": [
    {
     "data": {
      "text/plain": [
       "review_id        object\n",
       "review_rating    object\n",
       "text             object\n",
       "time_created     object\n",
       "business_id      object\n",
       "user_id          object\n",
       "dtype: object"
      ]
     },
     "execution_count": 119,
     "metadata": {},
     "output_type": "execute_result"
    }
   ],
   "source": [
    "# check the data types\n",
    "review_df.dtypes"
   ]
  },
  {
   "cell_type": "code",
   "execution_count": 120,
   "id": "03080d0a",
   "metadata": {},
   "outputs": [],
   "source": [
    "review_df['review_rating'] = review_df['review_rating'].astype(float)"
   ]
  },
  {
   "cell_type": "code",
   "execution_count": 121,
   "id": "ab121498",
   "metadata": {},
   "outputs": [
    {
     "name": "stdout",
     "output_type": "stream",
     "text": [
      "The review_df contains 6 columns and 10263 rows.\n"
     ]
    },
    {
     "data": {
      "text/html": [
       "<div>\n",
       "<style scoped>\n",
       "    .dataframe tbody tr th:only-of-type {\n",
       "        vertical-align: middle;\n",
       "    }\n",
       "\n",
       "    .dataframe tbody tr th {\n",
       "        vertical-align: top;\n",
       "    }\n",
       "\n",
       "    .dataframe thead th {\n",
       "        text-align: right;\n",
       "    }\n",
       "</style>\n",
       "<table border=\"1\" class=\"dataframe\">\n",
       "  <thead>\n",
       "    <tr style=\"text-align: right;\">\n",
       "      <th></th>\n",
       "      <th>review_id</th>\n",
       "      <th>review_rating</th>\n",
       "      <th>text</th>\n",
       "      <th>time_created</th>\n",
       "      <th>business_id</th>\n",
       "      <th>user_id</th>\n",
       "    </tr>\n",
       "  </thead>\n",
       "  <tbody>\n",
       "    <tr>\n",
       "      <th>0</th>\n",
       "      <td>Gktz5xcIUjGY9Bm5z6Bwgw</td>\n",
       "      <td>5.0</td>\n",
       "      <td>DeClieu is a warm and inviting place as soon a...</td>\n",
       "      <td>2021-06-12 23:51:01</td>\n",
       "      <td>KSPpsm1Kxxg8Y2sgQKuqSQ</td>\n",
       "      <td>WVULRedHN-yKI70Qg79vRQ</td>\n",
       "    </tr>\n",
       "    <tr>\n",
       "      <th>1</th>\n",
       "      <td>4fxWmyeYo7GUk73crEjRSg</td>\n",
       "      <td>5.0</td>\n",
       "      <td>Went here with my gf and her family for a morn...</td>\n",
       "      <td>2021-05-30 09:27:36</td>\n",
       "      <td>KSPpsm1Kxxg8Y2sgQKuqSQ</td>\n",
       "      <td>8kWiHzJBgv1CFRTgZwWgaQ</td>\n",
       "    </tr>\n",
       "    <tr>\n",
       "      <th>2</th>\n",
       "      <td>Kj1WM0NAj8DeeKPgazPR2Q</td>\n",
       "      <td>4.0</td>\n",
       "      <td>What a great little place to stop in during my...</td>\n",
       "      <td>2021-06-10 18:53:39</td>\n",
       "      <td>KSPpsm1Kxxg8Y2sgQKuqSQ</td>\n",
       "      <td>B9J6L6fVSrJ3cT8lif3hkA</td>\n",
       "    </tr>\n",
       "  </tbody>\n",
       "</table>\n",
       "</div>"
      ],
      "text/plain": [
       "                review_id  review_rating  \\\n",
       "0  Gktz5xcIUjGY9Bm5z6Bwgw            5.0   \n",
       "1  4fxWmyeYo7GUk73crEjRSg            5.0   \n",
       "2  Kj1WM0NAj8DeeKPgazPR2Q            4.0   \n",
       "\n",
       "                                                text         time_created  \\\n",
       "0  DeClieu is a warm and inviting place as soon a...  2021-06-12 23:51:01   \n",
       "1  Went here with my gf and her family for a morn...  2021-05-30 09:27:36   \n",
       "2  What a great little place to stop in during my...  2021-06-10 18:53:39   \n",
       "\n",
       "              business_id                 user_id  \n",
       "0  KSPpsm1Kxxg8Y2sgQKuqSQ  WVULRedHN-yKI70Qg79vRQ  \n",
       "1  KSPpsm1Kxxg8Y2sgQKuqSQ  8kWiHzJBgv1CFRTgZwWgaQ  \n",
       "2  KSPpsm1Kxxg8Y2sgQKuqSQ  B9J6L6fVSrJ3cT8lif3hkA  "
      ]
     },
     "execution_count": 121,
     "metadata": {},
     "output_type": "execute_result"
    }
   ],
   "source": [
    "print('The review_df contains {} columns and {} rows.'.format(review_df.shape[1], review_df.shape[0]))\n",
    "review_df.head(3)"
   ]
  },
  {
   "cell_type": "markdown",
   "id": "1ab4066f",
   "metadata": {},
   "source": [
    "### b. user"
   ]
  },
  {
   "cell_type": "markdown",
   "id": "dd5fd7a1",
   "metadata": {},
   "source": [
    "The **user_df** dataframe needs to contain 3 columns: *user_id*, *user_name*, *user_profile_url*, *user_image_url*."
   ]
  },
  {
   "cell_type": "code",
   "execution_count": 122,
   "id": "b3725f0c",
   "metadata": {},
   "outputs": [],
   "source": [
    "user_df = all_review_df[['user_id', 'user_name', 'user_profile_url', 'user_image_url']].copy().drop_duplicates(subset='user_id')\n",
    "user_df.reset_index(inplace=True, drop=True)"
   ]
  },
  {
   "cell_type": "code",
   "execution_count": 123,
   "id": "2db013c0",
   "metadata": {},
   "outputs": [
    {
     "name": "stdout",
     "output_type": "stream",
     "text": [
      "The user_df contains 4 columns and 6549 rows.\n"
     ]
    },
    {
     "data": {
      "text/html": [
       "<div>\n",
       "<style scoped>\n",
       "    .dataframe tbody tr th:only-of-type {\n",
       "        vertical-align: middle;\n",
       "    }\n",
       "\n",
       "    .dataframe tbody tr th {\n",
       "        vertical-align: top;\n",
       "    }\n",
       "\n",
       "    .dataframe thead th {\n",
       "        text-align: right;\n",
       "    }\n",
       "</style>\n",
       "<table border=\"1\" class=\"dataframe\">\n",
       "  <thead>\n",
       "    <tr style=\"text-align: right;\">\n",
       "      <th></th>\n",
       "      <th>user_id</th>\n",
       "      <th>user_name</th>\n",
       "      <th>user_profile_url</th>\n",
       "      <th>user_image_url</th>\n",
       "    </tr>\n",
       "  </thead>\n",
       "  <tbody>\n",
       "    <tr>\n",
       "      <th>0</th>\n",
       "      <td>WVULRedHN-yKI70Qg79vRQ</td>\n",
       "      <td>Brian L.</td>\n",
       "      <td>https://www.yelp.com/user_details?userid=WVULR...</td>\n",
       "      <td>None</td>\n",
       "    </tr>\n",
       "    <tr>\n",
       "      <th>1</th>\n",
       "      <td>8kWiHzJBgv1CFRTgZwWgaQ</td>\n",
       "      <td>Jivak S.</td>\n",
       "      <td>https://www.yelp.com/user_details?userid=8kWiH...</td>\n",
       "      <td>https://s3-media4.fl.yelpcdn.com/photo/51DKHwA...</td>\n",
       "    </tr>\n",
       "    <tr>\n",
       "      <th>2</th>\n",
       "      <td>B9J6L6fVSrJ3cT8lif3hkA</td>\n",
       "      <td>Laura C.</td>\n",
       "      <td>https://www.yelp.com/user_details?userid=B9J6L...</td>\n",
       "      <td>https://s3-media2.fl.yelpcdn.com/photo/sX2mRrB...</td>\n",
       "    </tr>\n",
       "  </tbody>\n",
       "</table>\n",
       "</div>"
      ],
      "text/plain": [
       "                  user_id user_name  \\\n",
       "0  WVULRedHN-yKI70Qg79vRQ  Brian L.   \n",
       "1  8kWiHzJBgv1CFRTgZwWgaQ  Jivak S.   \n",
       "2  B9J6L6fVSrJ3cT8lif3hkA  Laura C.   \n",
       "\n",
       "                                    user_profile_url  \\\n",
       "0  https://www.yelp.com/user_details?userid=WVULR...   \n",
       "1  https://www.yelp.com/user_details?userid=8kWiH...   \n",
       "2  https://www.yelp.com/user_details?userid=B9J6L...   \n",
       "\n",
       "                                      user_image_url  \n",
       "0                                               None  \n",
       "1  https://s3-media4.fl.yelpcdn.com/photo/51DKHwA...  \n",
       "2  https://s3-media2.fl.yelpcdn.com/photo/sX2mRrB...  "
      ]
     },
     "execution_count": 123,
     "metadata": {},
     "output_type": "execute_result"
    }
   ],
   "source": [
    "print('The user_df contains {} columns and {} rows.'.format(user_df.shape[1], user_df.shape[0]))\n",
    "user_df.head(3)"
   ]
  },
  {
   "cell_type": "markdown",
   "id": "86645160",
   "metadata": {},
   "source": [
    "## D. Export dataframes to CSV files"
   ]
  },
  {
   "cell_type": "code",
   "execution_count": 124,
   "id": "d9313aa0",
   "metadata": {},
   "outputs": [],
   "source": [
    "business_df.to_csv(os.path.join(cwd,'data_csv', 'businesses.csv'), sep= '|', index=False)\n",
    "transaction_df.to_csv(os.path.join(cwd,'data_csv', 'transactions.csv'), sep= '|', index=False)\n",
    "category_df.to_csv(os.path.join(cwd,'data_csv', 'categories.csv'), sep= '|', index=False)\n",
    "review_df.to_csv(os.path.join(cwd,'data_csv', 'reviews.csv'), sep= '|', index=False)\n",
    "user_df.to_csv(os.path.join(cwd,'data_csv', 'users.csv'), sep= '|', index=False)\n",
    "transaction_business_df.to_csv(os.path.join(cwd,'data_csv', 'transaction_business.csv'), sep= '|', index=False)\n",
    "category_business_df.to_csv(os.path.join(cwd,'data_csv', 'category_business.csv'), sep= '|', index=False)"
   ]
  },
  {
   "cell_type": "markdown",
   "id": "b3283f12",
   "metadata": {},
   "source": [
    "## E. Export files to store SQL queries"
   ]
  },
  {
   "cell_type": "markdown",
   "id": "f35b9977",
   "metadata": {},
   "source": [
    "We will export script files that store 'insert SQL queries' so that we can populate data into the database. "
   ]
  },
  {
   "cell_type": "code",
   "execution_count": 125,
   "id": "3edc4b1f",
   "metadata": {},
   "outputs": [],
   "source": [
    "def nan_or_none(a):\n",
    "    return (a == None or a != a)\n",
    "\n",
    "def insert_query(dataframe, table_name):\n",
    "    with open(os.path.join(cwd, 'insert_query', (table_name+'.sql')), 'w') as f:\n",
    "        query1 = \"INSERT INTO {} {}\\n\".format(table_name, tuple(dataframe.columns)).replace(\"'\", \"\")\n",
    "        for r in range(len(dataframe)):\n",
    "            row = dataframe.iloc[r]\n",
    "            all_values = ''\n",
    "            for c in range(len(row)):\n",
    "                value = row[c]\n",
    "                if c != len(row) - 1:\n",
    "                    if nan_or_none(value):\n",
    "                        all_values += 'NULL, '\n",
    "                    else:\n",
    "                        if type(value) is str:\n",
    "                            value = value.replace(\"'\", \"''\")\n",
    "                            all_values += \"'\" + value + \"', \" \n",
    "                        else:\n",
    "                            all_values += str(value) + ', '\n",
    "                else:\n",
    "                    if nan_or_none(value):\n",
    "                        all_values += 'NULL'\n",
    "                    else:\n",
    "                        if type(value) is str:\n",
    "                            value = value.replace(\"'\", \"''\")\n",
    "                            all_values += \"'\" + value + \"'\"\n",
    "                        else:\n",
    "                            all_values += str(value)\n",
    "            query2 = \"VALUES ({});\\n\".format(all_values)\n",
    "            query = query1 + query2\n",
    "            f.write(query)\n",
    "        return 'Done for the \"{}\" table'.format(table_name)"
   ]
  },
  {
   "cell_type": "code",
   "execution_count": 126,
   "id": "9b6a5965",
   "metadata": {},
   "outputs": [
    {
     "name": "stdout",
     "output_type": "stream",
     "text": [
      "Done for the \"businesses\" table\n"
     ]
    }
   ],
   "source": [
    "print(insert_query(business_df, 'businesses'))"
   ]
  },
  {
   "cell_type": "code",
   "execution_count": 127,
   "id": "60ccad97",
   "metadata": {},
   "outputs": [
    {
     "name": "stdout",
     "output_type": "stream",
     "text": [
      "Done for the \"users\" table\n"
     ]
    }
   ],
   "source": [
    "print(insert_query(user_df, 'users'))"
   ]
  },
  {
   "cell_type": "code",
   "execution_count": 128,
   "id": "c29889bb",
   "metadata": {},
   "outputs": [
    {
     "name": "stdout",
     "output_type": "stream",
     "text": [
      "Done for the \"reviews\" table\n"
     ]
    }
   ],
   "source": [
    "print(insert_query(review_df, 'reviews'))"
   ]
  },
  {
   "cell_type": "code",
   "execution_count": 129,
   "id": "c5ac62a8",
   "metadata": {},
   "outputs": [
    {
     "name": "stdout",
     "output_type": "stream",
     "text": [
      "Done for the \"transaction_business\" table\n"
     ]
    }
   ],
   "source": [
    "print(insert_query(transaction_business_df, 'transaction_business'))"
   ]
  },
  {
   "cell_type": "code",
   "execution_count": 130,
   "id": "c9cf95ef",
   "metadata": {},
   "outputs": [
    {
     "name": "stdout",
     "output_type": "stream",
     "text": [
      "Done for the \"category_business\" table\n"
     ]
    }
   ],
   "source": [
    "print(insert_query(category_business_df, 'category_business'))"
   ]
  },
  {
   "cell_type": "code",
   "execution_count": 131,
   "id": "0d27cc07",
   "metadata": {},
   "outputs": [
    {
     "name": "stdout",
     "output_type": "stream",
     "text": [
      "Done for the \"categories\" table\n"
     ]
    }
   ],
   "source": [
    "print(insert_query(category_df, 'categories'))"
   ]
  },
  {
   "cell_type": "code",
   "execution_count": 132,
   "id": "7e493aef",
   "metadata": {},
   "outputs": [
    {
     "name": "stdout",
     "output_type": "stream",
     "text": [
      "Done for the \"transactions\" table\n"
     ]
    }
   ],
   "source": [
    "print(insert_query(transaction_df, 'transactions'))"
   ]
  }
 ],
 "metadata": {
  "kernelspec": {
   "display_name": "Python 3",
   "language": "python",
   "name": "python3"
  },
  "language_info": {
   "codemirror_mode": {
    "name": "ipython",
    "version": 3
   },
   "file_extension": ".py",
   "mimetype": "text/x-python",
   "name": "python",
   "nbconvert_exporter": "python",
   "pygments_lexer": "ipython3",
   "version": "3.6.8"
  }
 },
 "nbformat": 4,
 "nbformat_minor": 5
}
